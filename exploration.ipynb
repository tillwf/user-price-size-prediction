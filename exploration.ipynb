{
 "cells": [
  {
   "cell_type": "markdown",
   "id": "85704685",
   "metadata": {},
   "source": [
    "## Imports"
   ]
  },
  {
   "cell_type": "code",
   "execution_count": 1,
   "id": "1c1a6ba6",
   "metadata": {},
   "outputs": [],
   "source": [
    "import matplotlib.pyplot as plt\n",
    "import numpy as np\n",
    "import pandas as pd"
   ]
  },
  {
   "cell_type": "code",
   "execution_count": 2,
   "id": "338e6576",
   "metadata": {},
   "outputs": [],
   "source": [
    "from IPython.core.display import HTML\n",
    "HTML(\"\"\"\n",
    "<style>\n",
    ".output_png {\n",
    "    display: table-cell;\n",
    "    text-align: center;\n",
    "    vertical-align: middle;\n",
    "}\n",
    "</style>\n",
    "\"\"\")\n",
    "\n",
    "plt.rcParams[\"figure.figsize\"] = (20, 10)"
   ]
  },
  {
   "cell_type": "markdown",
   "id": "1db3ec0d",
   "metadata": {},
   "source": [
    "## Load the data"
   ]
  },
  {
   "cell_type": "code",
   "execution_count": 3,
   "id": "2870b7f2",
   "metadata": {},
   "outputs": [],
   "source": [
    "df = pd.read_json('data/events.log', lines=True)"
   ]
  },
  {
   "cell_type": "markdown",
   "id": "bfd64481",
   "metadata": {},
   "source": [
    "We map the size to int values to ease the analysis"
   ]
  },
  {
   "cell_type": "code",
   "execution_count": 4,
   "id": "8fc34c09",
   "metadata": {},
   "outputs": [],
   "source": [
    "SIZE_MAP = {\n",
    "    \"s\": 1,\n",
    "    \"m\": 2,\n",
    "    \"l\": 3,\n",
    "    \"xl\": 4\n",
    "}"
   ]
  },
  {
   "cell_type": "code",
   "execution_count": 5,
   "id": "99d7996d",
   "metadata": {},
   "outputs": [],
   "source": [
    "df['size_int'] = df['size'].map(SIZE_MAP)"
   ]
  },
  {
   "cell_type": "code",
   "execution_count": 6,
   "id": "88e41bbe",
   "metadata": {},
   "outputs": [
    {
     "data": {
      "text/html": [
       "<div>\n",
       "<style scoped>\n",
       "    .dataframe tbody tr th:only-of-type {\n",
       "        vertical-align: middle;\n",
       "    }\n",
       "\n",
       "    .dataframe tbody tr th {\n",
       "        vertical-align: top;\n",
       "    }\n",
       "\n",
       "    .dataframe thead th {\n",
       "        text-align: right;\n",
       "    }\n",
       "</style>\n",
       "<table border=\"1\" class=\"dataframe\">\n",
       "  <thead>\n",
       "    <tr style=\"text-align: right;\">\n",
       "      <th></th>\n",
       "      <th>user_id</th>\n",
       "      <th>event</th>\n",
       "      <th>price</th>\n",
       "      <th>size</th>\n",
       "      <th>size_int</th>\n",
       "    </tr>\n",
       "  </thead>\n",
       "  <tbody>\n",
       "    <tr>\n",
       "      <th>0</th>\n",
       "      <td>73284db2cd94eeee6a5142a6ff487a3a6ebd0a111b6c92...</td>\n",
       "      <td>product_view</td>\n",
       "      <td>690</td>\n",
       "      <td>l</td>\n",
       "      <td>3</td>\n",
       "    </tr>\n",
       "    <tr>\n",
       "      <th>1</th>\n",
       "      <td>73284db2cd94eeee6a5142a6ff487a3a6ebd0a111b6c92...</td>\n",
       "      <td>product_view</td>\n",
       "      <td>779</td>\n",
       "      <td>xl</td>\n",
       "      <td>4</td>\n",
       "    </tr>\n",
       "    <tr>\n",
       "      <th>2</th>\n",
       "      <td>73284db2cd94eeee6a5142a6ff487a3a6ebd0a111b6c92...</td>\n",
       "      <td>product_view</td>\n",
       "      <td>529</td>\n",
       "      <td>xl</td>\n",
       "      <td>4</td>\n",
       "    </tr>\n",
       "    <tr>\n",
       "      <th>3</th>\n",
       "      <td>73284db2cd94eeee6a5142a6ff487a3a6ebd0a111b6c92...</td>\n",
       "      <td>product_view</td>\n",
       "      <td>719</td>\n",
       "      <td>l</td>\n",
       "      <td>3</td>\n",
       "    </tr>\n",
       "    <tr>\n",
       "      <th>4</th>\n",
       "      <td>73284db2cd94eeee6a5142a6ff487a3a6ebd0a111b6c92...</td>\n",
       "      <td>product_view</td>\n",
       "      <td>841</td>\n",
       "      <td>l</td>\n",
       "      <td>3</td>\n",
       "    </tr>\n",
       "  </tbody>\n",
       "</table>\n",
       "</div>"
      ],
      "text/plain": [
       "                                             user_id         event  price  \\\n",
       "0  73284db2cd94eeee6a5142a6ff487a3a6ebd0a111b6c92...  product_view    690   \n",
       "1  73284db2cd94eeee6a5142a6ff487a3a6ebd0a111b6c92...  product_view    779   \n",
       "2  73284db2cd94eeee6a5142a6ff487a3a6ebd0a111b6c92...  product_view    529   \n",
       "3  73284db2cd94eeee6a5142a6ff487a3a6ebd0a111b6c92...  product_view    719   \n",
       "4  73284db2cd94eeee6a5142a6ff487a3a6ebd0a111b6c92...  product_view    841   \n",
       "\n",
       "  size  size_int  \n",
       "0    l         3  \n",
       "1   xl         4  \n",
       "2   xl         4  \n",
       "3    l         3  \n",
       "4    l         3  "
      ]
     },
     "execution_count": 6,
     "metadata": {},
     "output_type": "execute_result"
    }
   ],
   "source": [
    "df.head()"
   ]
  },
  {
   "cell_type": "markdown",
   "id": "a445761f",
   "metadata": {},
   "source": [
    "### Single example"
   ]
  },
  {
   "cell_type": "markdown",
   "id": "76f08667",
   "metadata": {},
   "source": [
    "Let's examine some user's events"
   ]
  },
  {
   "cell_type": "markdown",
   "id": "4be885f2",
   "metadata": {},
   "source": [
    "- User with one purchase"
   ]
  },
  {
   "cell_type": "code",
   "execution_count": 7,
   "id": "246713b6",
   "metadata": {},
   "outputs": [
    {
     "data": {
      "text/html": [
       "<div>\n",
       "<style scoped>\n",
       "    .dataframe tbody tr th:only-of-type {\n",
       "        vertical-align: middle;\n",
       "    }\n",
       "\n",
       "    .dataframe tbody tr th {\n",
       "        vertical-align: top;\n",
       "    }\n",
       "\n",
       "    .dataframe thead th {\n",
       "        text-align: right;\n",
       "    }\n",
       "</style>\n",
       "<table border=\"1\" class=\"dataframe\">\n",
       "  <thead>\n",
       "    <tr style=\"text-align: right;\">\n",
       "      <th></th>\n",
       "      <th>user_id</th>\n",
       "      <th>event</th>\n",
       "      <th>price</th>\n",
       "      <th>size</th>\n",
       "      <th>size_int</th>\n",
       "    </tr>\n",
       "  </thead>\n",
       "  <tbody>\n",
       "    <tr>\n",
       "      <th>0</th>\n",
       "      <td>73284db2cd94eeee6a5142a6ff487a3a6ebd0a111b6c92...</td>\n",
       "      <td>product_view</td>\n",
       "      <td>690</td>\n",
       "      <td>l</td>\n",
       "      <td>3</td>\n",
       "    </tr>\n",
       "    <tr>\n",
       "      <th>1</th>\n",
       "      <td>73284db2cd94eeee6a5142a6ff487a3a6ebd0a111b6c92...</td>\n",
       "      <td>product_view</td>\n",
       "      <td>779</td>\n",
       "      <td>xl</td>\n",
       "      <td>4</td>\n",
       "    </tr>\n",
       "    <tr>\n",
       "      <th>2</th>\n",
       "      <td>73284db2cd94eeee6a5142a6ff487a3a6ebd0a111b6c92...</td>\n",
       "      <td>product_view</td>\n",
       "      <td>529</td>\n",
       "      <td>xl</td>\n",
       "      <td>4</td>\n",
       "    </tr>\n",
       "    <tr>\n",
       "      <th>3</th>\n",
       "      <td>73284db2cd94eeee6a5142a6ff487a3a6ebd0a111b6c92...</td>\n",
       "      <td>product_view</td>\n",
       "      <td>719</td>\n",
       "      <td>l</td>\n",
       "      <td>3</td>\n",
       "    </tr>\n",
       "    <tr>\n",
       "      <th>4</th>\n",
       "      <td>73284db2cd94eeee6a5142a6ff487a3a6ebd0a111b6c92...</td>\n",
       "      <td>product_view</td>\n",
       "      <td>841</td>\n",
       "      <td>l</td>\n",
       "      <td>3</td>\n",
       "    </tr>\n",
       "    <tr>\n",
       "      <th>5</th>\n",
       "      <td>73284db2cd94eeee6a5142a6ff487a3a6ebd0a111b6c92...</td>\n",
       "      <td>product_view</td>\n",
       "      <td>834</td>\n",
       "      <td>l</td>\n",
       "      <td>3</td>\n",
       "    </tr>\n",
       "    <tr>\n",
       "      <th>6</th>\n",
       "      <td>73284db2cd94eeee6a5142a6ff487a3a6ebd0a111b6c92...</td>\n",
       "      <td>product_view</td>\n",
       "      <td>623</td>\n",
       "      <td>l</td>\n",
       "      <td>3</td>\n",
       "    </tr>\n",
       "    <tr>\n",
       "      <th>7</th>\n",
       "      <td>73284db2cd94eeee6a5142a6ff487a3a6ebd0a111b6c92...</td>\n",
       "      <td>product_view</td>\n",
       "      <td>887</td>\n",
       "      <td>l</td>\n",
       "      <td>3</td>\n",
       "    </tr>\n",
       "    <tr>\n",
       "      <th>8</th>\n",
       "      <td>73284db2cd94eeee6a5142a6ff487a3a6ebd0a111b6c92...</td>\n",
       "      <td>product_view</td>\n",
       "      <td>680</td>\n",
       "      <td>xl</td>\n",
       "      <td>4</td>\n",
       "    </tr>\n",
       "    <tr>\n",
       "      <th>9</th>\n",
       "      <td>73284db2cd94eeee6a5142a6ff487a3a6ebd0a111b6c92...</td>\n",
       "      <td>product_view</td>\n",
       "      <td>825</td>\n",
       "      <td>l</td>\n",
       "      <td>3</td>\n",
       "    </tr>\n",
       "    <tr>\n",
       "      <th>10</th>\n",
       "      <td>73284db2cd94eeee6a5142a6ff487a3a6ebd0a111b6c92...</td>\n",
       "      <td>purchase</td>\n",
       "      <td>825</td>\n",
       "      <td>l</td>\n",
       "      <td>3</td>\n",
       "    </tr>\n",
       "  </tbody>\n",
       "</table>\n",
       "</div>"
      ],
      "text/plain": [
       "                                              user_id         event  price  \\\n",
       "0   73284db2cd94eeee6a5142a6ff487a3a6ebd0a111b6c92...  product_view    690   \n",
       "1   73284db2cd94eeee6a5142a6ff487a3a6ebd0a111b6c92...  product_view    779   \n",
       "2   73284db2cd94eeee6a5142a6ff487a3a6ebd0a111b6c92...  product_view    529   \n",
       "3   73284db2cd94eeee6a5142a6ff487a3a6ebd0a111b6c92...  product_view    719   \n",
       "4   73284db2cd94eeee6a5142a6ff487a3a6ebd0a111b6c92...  product_view    841   \n",
       "5   73284db2cd94eeee6a5142a6ff487a3a6ebd0a111b6c92...  product_view    834   \n",
       "6   73284db2cd94eeee6a5142a6ff487a3a6ebd0a111b6c92...  product_view    623   \n",
       "7   73284db2cd94eeee6a5142a6ff487a3a6ebd0a111b6c92...  product_view    887   \n",
       "8   73284db2cd94eeee6a5142a6ff487a3a6ebd0a111b6c92...  product_view    680   \n",
       "9   73284db2cd94eeee6a5142a6ff487a3a6ebd0a111b6c92...  product_view    825   \n",
       "10  73284db2cd94eeee6a5142a6ff487a3a6ebd0a111b6c92...      purchase    825   \n",
       "\n",
       "   size  size_int  \n",
       "0     l         3  \n",
       "1    xl         4  \n",
       "2    xl         4  \n",
       "3     l         3  \n",
       "4     l         3  \n",
       "5     l         3  \n",
       "6     l         3  \n",
       "7     l         3  \n",
       "8    xl         4  \n",
       "9     l         3  \n",
       "10    l         3  "
      ]
     },
     "execution_count": 7,
     "metadata": {},
     "output_type": "execute_result"
    }
   ],
   "source": [
    "df.query('user_id == \"73284db2cd94eeee6a5142a6ff487a3a6ebd0a111b6c92bbd4ed4c77872ee075\"')"
   ]
  },
  {
   "cell_type": "markdown",
   "id": "ce40427b",
   "metadata": {},
   "source": [
    "- User with more than one purchase"
   ]
  },
  {
   "cell_type": "code",
   "execution_count": 8,
   "id": "1ac7f0a6",
   "metadata": {},
   "outputs": [
    {
     "data": {
      "text/html": [
       "<div>\n",
       "<style scoped>\n",
       "    .dataframe tbody tr th:only-of-type {\n",
       "        vertical-align: middle;\n",
       "    }\n",
       "\n",
       "    .dataframe tbody tr th {\n",
       "        vertical-align: top;\n",
       "    }\n",
       "\n",
       "    .dataframe thead th {\n",
       "        text-align: right;\n",
       "    }\n",
       "</style>\n",
       "<table border=\"1\" class=\"dataframe\">\n",
       "  <thead>\n",
       "    <tr style=\"text-align: right;\">\n",
       "      <th></th>\n",
       "      <th>user_id</th>\n",
       "      <th>event</th>\n",
       "      <th>price</th>\n",
       "      <th>size</th>\n",
       "      <th>size_int</th>\n",
       "    </tr>\n",
       "  </thead>\n",
       "  <tbody>\n",
       "    <tr>\n",
       "      <th>26627</th>\n",
       "      <td>c904a098cf3d01e0893eaaaf36dd49b8c47db58b91ba5d...</td>\n",
       "      <td>product_view</td>\n",
       "      <td>964</td>\n",
       "      <td>s</td>\n",
       "      <td>1</td>\n",
       "    </tr>\n",
       "    <tr>\n",
       "      <th>26628</th>\n",
       "      <td>c904a098cf3d01e0893eaaaf36dd49b8c47db58b91ba5d...</td>\n",
       "      <td>product_view</td>\n",
       "      <td>732</td>\n",
       "      <td>s</td>\n",
       "      <td>1</td>\n",
       "    </tr>\n",
       "    <tr>\n",
       "      <th>26629</th>\n",
       "      <td>c904a098cf3d01e0893eaaaf36dd49b8c47db58b91ba5d...</td>\n",
       "      <td>product_view</td>\n",
       "      <td>953</td>\n",
       "      <td>s</td>\n",
       "      <td>1</td>\n",
       "    </tr>\n",
       "    <tr>\n",
       "      <th>26630</th>\n",
       "      <td>c904a098cf3d01e0893eaaaf36dd49b8c47db58b91ba5d...</td>\n",
       "      <td>purchase</td>\n",
       "      <td>953</td>\n",
       "      <td>s</td>\n",
       "      <td>1</td>\n",
       "    </tr>\n",
       "    <tr>\n",
       "      <th>26631</th>\n",
       "      <td>c904a098cf3d01e0893eaaaf36dd49b8c47db58b91ba5d...</td>\n",
       "      <td>product_view</td>\n",
       "      <td>717</td>\n",
       "      <td>s</td>\n",
       "      <td>1</td>\n",
       "    </tr>\n",
       "    <tr>\n",
       "      <th>26632</th>\n",
       "      <td>c904a098cf3d01e0893eaaaf36dd49b8c47db58b91ba5d...</td>\n",
       "      <td>purchase</td>\n",
       "      <td>717</td>\n",
       "      <td>s</td>\n",
       "      <td>1</td>\n",
       "    </tr>\n",
       "    <tr>\n",
       "      <th>26633</th>\n",
       "      <td>c904a098cf3d01e0893eaaaf36dd49b8c47db58b91ba5d...</td>\n",
       "      <td>product_view</td>\n",
       "      <td>838</td>\n",
       "      <td>s</td>\n",
       "      <td>1</td>\n",
       "    </tr>\n",
       "    <tr>\n",
       "      <th>26634</th>\n",
       "      <td>c904a098cf3d01e0893eaaaf36dd49b8c47db58b91ba5d...</td>\n",
       "      <td>purchase</td>\n",
       "      <td>838</td>\n",
       "      <td>s</td>\n",
       "      <td>1</td>\n",
       "    </tr>\n",
       "  </tbody>\n",
       "</table>\n",
       "</div>"
      ],
      "text/plain": [
       "                                                 user_id         event  price  \\\n",
       "26627  c904a098cf3d01e0893eaaaf36dd49b8c47db58b91ba5d...  product_view    964   \n",
       "26628  c904a098cf3d01e0893eaaaf36dd49b8c47db58b91ba5d...  product_view    732   \n",
       "26629  c904a098cf3d01e0893eaaaf36dd49b8c47db58b91ba5d...  product_view    953   \n",
       "26630  c904a098cf3d01e0893eaaaf36dd49b8c47db58b91ba5d...      purchase    953   \n",
       "26631  c904a098cf3d01e0893eaaaf36dd49b8c47db58b91ba5d...  product_view    717   \n",
       "26632  c904a098cf3d01e0893eaaaf36dd49b8c47db58b91ba5d...      purchase    717   \n",
       "26633  c904a098cf3d01e0893eaaaf36dd49b8c47db58b91ba5d...  product_view    838   \n",
       "26634  c904a098cf3d01e0893eaaaf36dd49b8c47db58b91ba5d...      purchase    838   \n",
       "\n",
       "      size  size_int  \n",
       "26627    s         1  \n",
       "26628    s         1  \n",
       "26629    s         1  \n",
       "26630    s         1  \n",
       "26631    s         1  \n",
       "26632    s         1  \n",
       "26633    s         1  \n",
       "26634    s         1  "
      ]
     },
     "execution_count": 8,
     "metadata": {},
     "output_type": "execute_result"
    }
   ],
   "source": [
    "df.query('user_id == \"c904a098cf3d01e0893eaaaf36dd49b8c47db58b91ba5d1c638f99ea25939714\"')"
   ]
  },
  {
   "cell_type": "markdown",
   "id": "a37c70d6",
   "metadata": {},
   "source": [
    "###### Asumptions\n",
    "\n",
    "In the previous examples the purchase is the last action and it seems to be the last product viewed. We can think that the data is chronologically sorted. Let's look at users with multiple purchases.\n"
   ]
  },
  {
   "cell_type": "markdown",
   "id": "9b5f6730",
   "metadata": {},
   "source": [
    "Let's check that by verifying that every purchase is preceeding by a view with the same item's features"
   ]
  },
  {
   "cell_type": "code",
   "execution_count": 9,
   "id": "1a89dc79",
   "metadata": {},
   "outputs": [
    {
     "data": {
      "text/plain": [
       "True"
      ]
     },
     "execution_count": 9,
     "metadata": {},
     "output_type": "execute_result"
    }
   ],
   "source": [
    "joined_df = df.join(\n",
    "    df.shift(1).add_prefix('before_'),\n",
    "    how=\"left\",\n",
    ")\n",
    "n_purchase_with_view = joined_df.query(\"\"\"\n",
    "       user_id == before_user_id & event == 'purchase'\n",
    "\"\"\").size\n",
    "n_purchase_with_view_valid = joined_df.query(\"\"\"\n",
    "       user_id == before_user_id & event == 'purchase' & price == before_price & size == before_size\n",
    "\"\"\").size\n",
    "n_purchase_with_view == n_purchase_with_view_valid"
   ]
  },
  {
   "cell_type": "markdown",
   "id": "306eedf3",
   "metadata": {},
   "source": [
    "Let's add a `session_id` column"
   ]
  },
  {
   "cell_type": "code",
   "execution_count": 10,
   "id": "17ebc699",
   "metadata": {},
   "outputs": [],
   "source": [
    "cpt = 0\n",
    "session_arr = []\n",
    "current_user = df.iloc[0]['user_id']\n",
    "for i, row in df.iterrows():\n",
    "    if row['user_id'] != current_user:\n",
    "        cpt = 0\n",
    "        current_user = row['user_id']\n",
    "    session_arr += [cpt]\n",
    "    if row['event'] == \"purchase\":\n",
    "        cpt += 1\n",
    "df['session_id'] = session_arr"
   ]
  },
  {
   "cell_type": "code",
   "execution_count": 11,
   "id": "3be086b4",
   "metadata": {},
   "outputs": [
    {
     "data": {
      "text/html": [
       "<div>\n",
       "<style scoped>\n",
       "    .dataframe tbody tr th:only-of-type {\n",
       "        vertical-align: middle;\n",
       "    }\n",
       "\n",
       "    .dataframe tbody tr th {\n",
       "        vertical-align: top;\n",
       "    }\n",
       "\n",
       "    .dataframe thead th {\n",
       "        text-align: right;\n",
       "    }\n",
       "</style>\n",
       "<table border=\"1\" class=\"dataframe\">\n",
       "  <thead>\n",
       "    <tr style=\"text-align: right;\">\n",
       "      <th></th>\n",
       "      <th>user_id</th>\n",
       "      <th>event</th>\n",
       "      <th>price</th>\n",
       "      <th>size</th>\n",
       "      <th>size_int</th>\n",
       "      <th>session_id</th>\n",
       "    </tr>\n",
       "  </thead>\n",
       "  <tbody>\n",
       "    <tr>\n",
       "      <th>26627</th>\n",
       "      <td>c904a098cf3d01e0893eaaaf36dd49b8c47db58b91ba5d...</td>\n",
       "      <td>product_view</td>\n",
       "      <td>964</td>\n",
       "      <td>s</td>\n",
       "      <td>1</td>\n",
       "      <td>0</td>\n",
       "    </tr>\n",
       "    <tr>\n",
       "      <th>26628</th>\n",
       "      <td>c904a098cf3d01e0893eaaaf36dd49b8c47db58b91ba5d...</td>\n",
       "      <td>product_view</td>\n",
       "      <td>732</td>\n",
       "      <td>s</td>\n",
       "      <td>1</td>\n",
       "      <td>0</td>\n",
       "    </tr>\n",
       "    <tr>\n",
       "      <th>26629</th>\n",
       "      <td>c904a098cf3d01e0893eaaaf36dd49b8c47db58b91ba5d...</td>\n",
       "      <td>product_view</td>\n",
       "      <td>953</td>\n",
       "      <td>s</td>\n",
       "      <td>1</td>\n",
       "      <td>0</td>\n",
       "    </tr>\n",
       "    <tr>\n",
       "      <th>26630</th>\n",
       "      <td>c904a098cf3d01e0893eaaaf36dd49b8c47db58b91ba5d...</td>\n",
       "      <td>purchase</td>\n",
       "      <td>953</td>\n",
       "      <td>s</td>\n",
       "      <td>1</td>\n",
       "      <td>0</td>\n",
       "    </tr>\n",
       "    <tr>\n",
       "      <th>26631</th>\n",
       "      <td>c904a098cf3d01e0893eaaaf36dd49b8c47db58b91ba5d...</td>\n",
       "      <td>product_view</td>\n",
       "      <td>717</td>\n",
       "      <td>s</td>\n",
       "      <td>1</td>\n",
       "      <td>1</td>\n",
       "    </tr>\n",
       "    <tr>\n",
       "      <th>26632</th>\n",
       "      <td>c904a098cf3d01e0893eaaaf36dd49b8c47db58b91ba5d...</td>\n",
       "      <td>purchase</td>\n",
       "      <td>717</td>\n",
       "      <td>s</td>\n",
       "      <td>1</td>\n",
       "      <td>1</td>\n",
       "    </tr>\n",
       "    <tr>\n",
       "      <th>26633</th>\n",
       "      <td>c904a098cf3d01e0893eaaaf36dd49b8c47db58b91ba5d...</td>\n",
       "      <td>product_view</td>\n",
       "      <td>838</td>\n",
       "      <td>s</td>\n",
       "      <td>1</td>\n",
       "      <td>2</td>\n",
       "    </tr>\n",
       "    <tr>\n",
       "      <th>26634</th>\n",
       "      <td>c904a098cf3d01e0893eaaaf36dd49b8c47db58b91ba5d...</td>\n",
       "      <td>purchase</td>\n",
       "      <td>838</td>\n",
       "      <td>s</td>\n",
       "      <td>1</td>\n",
       "      <td>2</td>\n",
       "    </tr>\n",
       "  </tbody>\n",
       "</table>\n",
       "</div>"
      ],
      "text/plain": [
       "                                                 user_id         event  price  \\\n",
       "26627  c904a098cf3d01e0893eaaaf36dd49b8c47db58b91ba5d...  product_view    964   \n",
       "26628  c904a098cf3d01e0893eaaaf36dd49b8c47db58b91ba5d...  product_view    732   \n",
       "26629  c904a098cf3d01e0893eaaaf36dd49b8c47db58b91ba5d...  product_view    953   \n",
       "26630  c904a098cf3d01e0893eaaaf36dd49b8c47db58b91ba5d...      purchase    953   \n",
       "26631  c904a098cf3d01e0893eaaaf36dd49b8c47db58b91ba5d...  product_view    717   \n",
       "26632  c904a098cf3d01e0893eaaaf36dd49b8c47db58b91ba5d...      purchase    717   \n",
       "26633  c904a098cf3d01e0893eaaaf36dd49b8c47db58b91ba5d...  product_view    838   \n",
       "26634  c904a098cf3d01e0893eaaaf36dd49b8c47db58b91ba5d...      purchase    838   \n",
       "\n",
       "      size  size_int  session_id  \n",
       "26627    s         1           0  \n",
       "26628    s         1           0  \n",
       "26629    s         1           0  \n",
       "26630    s         1           0  \n",
       "26631    s         1           1  \n",
       "26632    s         1           1  \n",
       "26633    s         1           2  \n",
       "26634    s         1           2  "
      ]
     },
     "execution_count": 11,
     "metadata": {},
     "output_type": "execute_result"
    }
   ],
   "source": [
    "df.query('user_id == \"c904a098cf3d01e0893eaaaf36dd49b8c47db58b91ba5d1c638f99ea25939714\"')"
   ]
  },
  {
   "cell_type": "markdown",
   "id": "d9ad93df",
   "metadata": {},
   "source": [
    "### Adding some features"
   ]
  },
  {
   "cell_type": "markdown",
   "id": "4fe34d65",
   "metadata": {},
   "source": [
    "- Did the session generated an order"
   ]
  },
  {
   "cell_type": "code",
   "execution_count": 12,
   "id": "2ecd32ce",
   "metadata": {},
   "outputs": [
    {
     "data": {
      "text/html": [
       "<div>\n",
       "<style scoped>\n",
       "    .dataframe tbody tr th:only-of-type {\n",
       "        vertical-align: middle;\n",
       "    }\n",
       "\n",
       "    .dataframe tbody tr th {\n",
       "        vertical-align: top;\n",
       "    }\n",
       "\n",
       "    .dataframe thead th {\n",
       "        text-align: right;\n",
       "    }\n",
       "</style>\n",
       "<table border=\"1\" class=\"dataframe\">\n",
       "  <thead>\n",
       "    <tr style=\"text-align: right;\">\n",
       "      <th></th>\n",
       "      <th>user_id</th>\n",
       "      <th>event</th>\n",
       "      <th>price</th>\n",
       "      <th>size</th>\n",
       "      <th>size_int</th>\n",
       "      <th>session_id</th>\n",
       "      <th>has_order</th>\n",
       "    </tr>\n",
       "  </thead>\n",
       "  <tbody>\n",
       "    <tr>\n",
       "      <th>0</th>\n",
       "      <td>73284db2cd94eeee6a5142a6ff487a3a6ebd0a111b6c92...</td>\n",
       "      <td>product_view</td>\n",
       "      <td>690</td>\n",
       "      <td>l</td>\n",
       "      <td>3</td>\n",
       "      <td>0</td>\n",
       "      <td>True</td>\n",
       "    </tr>\n",
       "    <tr>\n",
       "      <th>1</th>\n",
       "      <td>73284db2cd94eeee6a5142a6ff487a3a6ebd0a111b6c92...</td>\n",
       "      <td>product_view</td>\n",
       "      <td>779</td>\n",
       "      <td>xl</td>\n",
       "      <td>4</td>\n",
       "      <td>0</td>\n",
       "      <td>True</td>\n",
       "    </tr>\n",
       "    <tr>\n",
       "      <th>2</th>\n",
       "      <td>73284db2cd94eeee6a5142a6ff487a3a6ebd0a111b6c92...</td>\n",
       "      <td>product_view</td>\n",
       "      <td>529</td>\n",
       "      <td>xl</td>\n",
       "      <td>4</td>\n",
       "      <td>0</td>\n",
       "      <td>True</td>\n",
       "    </tr>\n",
       "    <tr>\n",
       "      <th>3</th>\n",
       "      <td>73284db2cd94eeee6a5142a6ff487a3a6ebd0a111b6c92...</td>\n",
       "      <td>product_view</td>\n",
       "      <td>719</td>\n",
       "      <td>l</td>\n",
       "      <td>3</td>\n",
       "      <td>0</td>\n",
       "      <td>True</td>\n",
       "    </tr>\n",
       "    <tr>\n",
       "      <th>4</th>\n",
       "      <td>73284db2cd94eeee6a5142a6ff487a3a6ebd0a111b6c92...</td>\n",
       "      <td>product_view</td>\n",
       "      <td>841</td>\n",
       "      <td>l</td>\n",
       "      <td>3</td>\n",
       "      <td>0</td>\n",
       "      <td>True</td>\n",
       "    </tr>\n",
       "  </tbody>\n",
       "</table>\n",
       "</div>"
      ],
      "text/plain": [
       "                                             user_id         event  price  \\\n",
       "0  73284db2cd94eeee6a5142a6ff487a3a6ebd0a111b6c92...  product_view    690   \n",
       "1  73284db2cd94eeee6a5142a6ff487a3a6ebd0a111b6c92...  product_view    779   \n",
       "2  73284db2cd94eeee6a5142a6ff487a3a6ebd0a111b6c92...  product_view    529   \n",
       "3  73284db2cd94eeee6a5142a6ff487a3a6ebd0a111b6c92...  product_view    719   \n",
       "4  73284db2cd94eeee6a5142a6ff487a3a6ebd0a111b6c92...  product_view    841   \n",
       "\n",
       "  size  size_int  session_id  has_order  \n",
       "0    l         3           0       True  \n",
       "1   xl         4           0       True  \n",
       "2   xl         4           0       True  \n",
       "3    l         3           0       True  \n",
       "4    l         3           0       True  "
      ]
     },
     "execution_count": 12,
     "metadata": {},
     "output_type": "execute_result"
    }
   ],
   "source": [
    "df = df.merge(\n",
    "    df.groupby(['user_id', 'session_id']).event.apply(lambda x: \"purchase\" in list(x)).rename('has_order'),\n",
    "    on=[\"user_id\", \"session_id\"],\n",
    "    how=\"left\"\n",
    ")\n",
    "df.head()"
   ]
  },
  {
   "cell_type": "markdown",
   "id": "e957a585",
   "metadata": {},
   "source": [
    "- What is the mean price, the mean size, the mode of the size"
   ]
  },
  {
   "cell_type": "code",
   "execution_count": 13,
   "id": "01e01678",
   "metadata": {},
   "outputs": [],
   "source": [
    "df = df.merge(\n",
    "    df.groupby(['user_id', 'session_id']).agg(\n",
    "        mean_size=('size_int', 'mean'),\n",
    "        mean_price=('price', 'mean'),\n",
    "        mode_size=('size_int', pd.Series.mode),\n",
    "        n_action=('event', 'size'),\n",
    "    ),\n",
    "    on=['user_id', 'session_id'],\n",
    "    how=\"left\"\n",
    ")"
   ]
  },
  {
   "cell_type": "code",
   "execution_count": 14,
   "id": "e7d0f7c1",
   "metadata": {},
   "outputs": [
    {
     "data": {
      "text/html": [
       "<div>\n",
       "<style scoped>\n",
       "    .dataframe tbody tr th:only-of-type {\n",
       "        vertical-align: middle;\n",
       "    }\n",
       "\n",
       "    .dataframe tbody tr th {\n",
       "        vertical-align: top;\n",
       "    }\n",
       "\n",
       "    .dataframe thead th {\n",
       "        text-align: right;\n",
       "    }\n",
       "</style>\n",
       "<table border=\"1\" class=\"dataframe\">\n",
       "  <thead>\n",
       "    <tr style=\"text-align: right;\">\n",
       "      <th></th>\n",
       "      <th>user_id</th>\n",
       "      <th>event</th>\n",
       "      <th>price</th>\n",
       "      <th>size</th>\n",
       "      <th>size_int</th>\n",
       "      <th>session_id</th>\n",
       "      <th>has_order</th>\n",
       "      <th>mean_size</th>\n",
       "      <th>mean_price</th>\n",
       "      <th>mode_size</th>\n",
       "      <th>n_action</th>\n",
       "    </tr>\n",
       "  </thead>\n",
       "  <tbody>\n",
       "    <tr>\n",
       "      <th>0</th>\n",
       "      <td>73284db2cd94eeee6a5142a6ff487a3a6ebd0a111b6c92...</td>\n",
       "      <td>product_view</td>\n",
       "      <td>690</td>\n",
       "      <td>l</td>\n",
       "      <td>3</td>\n",
       "      <td>0</td>\n",
       "      <td>True</td>\n",
       "      <td>3.272727</td>\n",
       "      <td>748.363636</td>\n",
       "      <td>3</td>\n",
       "      <td>11</td>\n",
       "    </tr>\n",
       "    <tr>\n",
       "      <th>1</th>\n",
       "      <td>73284db2cd94eeee6a5142a6ff487a3a6ebd0a111b6c92...</td>\n",
       "      <td>product_view</td>\n",
       "      <td>779</td>\n",
       "      <td>xl</td>\n",
       "      <td>4</td>\n",
       "      <td>0</td>\n",
       "      <td>True</td>\n",
       "      <td>3.272727</td>\n",
       "      <td>748.363636</td>\n",
       "      <td>3</td>\n",
       "      <td>11</td>\n",
       "    </tr>\n",
       "    <tr>\n",
       "      <th>2</th>\n",
       "      <td>73284db2cd94eeee6a5142a6ff487a3a6ebd0a111b6c92...</td>\n",
       "      <td>product_view</td>\n",
       "      <td>529</td>\n",
       "      <td>xl</td>\n",
       "      <td>4</td>\n",
       "      <td>0</td>\n",
       "      <td>True</td>\n",
       "      <td>3.272727</td>\n",
       "      <td>748.363636</td>\n",
       "      <td>3</td>\n",
       "      <td>11</td>\n",
       "    </tr>\n",
       "    <tr>\n",
       "      <th>3</th>\n",
       "      <td>73284db2cd94eeee6a5142a6ff487a3a6ebd0a111b6c92...</td>\n",
       "      <td>product_view</td>\n",
       "      <td>719</td>\n",
       "      <td>l</td>\n",
       "      <td>3</td>\n",
       "      <td>0</td>\n",
       "      <td>True</td>\n",
       "      <td>3.272727</td>\n",
       "      <td>748.363636</td>\n",
       "      <td>3</td>\n",
       "      <td>11</td>\n",
       "    </tr>\n",
       "    <tr>\n",
       "      <th>4</th>\n",
       "      <td>73284db2cd94eeee6a5142a6ff487a3a6ebd0a111b6c92...</td>\n",
       "      <td>product_view</td>\n",
       "      <td>841</td>\n",
       "      <td>l</td>\n",
       "      <td>3</td>\n",
       "      <td>0</td>\n",
       "      <td>True</td>\n",
       "      <td>3.272727</td>\n",
       "      <td>748.363636</td>\n",
       "      <td>3</td>\n",
       "      <td>11</td>\n",
       "    </tr>\n",
       "    <tr>\n",
       "      <th>...</th>\n",
       "      <td>...</td>\n",
       "      <td>...</td>\n",
       "      <td>...</td>\n",
       "      <td>...</td>\n",
       "      <td>...</td>\n",
       "      <td>...</td>\n",
       "      <td>...</td>\n",
       "      <td>...</td>\n",
       "      <td>...</td>\n",
       "      <td>...</td>\n",
       "      <td>...</td>\n",
       "    </tr>\n",
       "    <tr>\n",
       "      <th>31697</th>\n",
       "      <td>cf8a21a58e070b3e40aa82d27e0b98fa16b3efc193544c...</td>\n",
       "      <td>product_view</td>\n",
       "      <td>116</td>\n",
       "      <td>xl</td>\n",
       "      <td>4</td>\n",
       "      <td>0</td>\n",
       "      <td>False</td>\n",
       "      <td>4.000000</td>\n",
       "      <td>128.666667</td>\n",
       "      <td>4</td>\n",
       "      <td>9</td>\n",
       "    </tr>\n",
       "    <tr>\n",
       "      <th>31698</th>\n",
       "      <td>cf8a21a58e070b3e40aa82d27e0b98fa16b3efc193544c...</td>\n",
       "      <td>product_view</td>\n",
       "      <td>186</td>\n",
       "      <td>xl</td>\n",
       "      <td>4</td>\n",
       "      <td>0</td>\n",
       "      <td>False</td>\n",
       "      <td>4.000000</td>\n",
       "      <td>128.666667</td>\n",
       "      <td>4</td>\n",
       "      <td>9</td>\n",
       "    </tr>\n",
       "    <tr>\n",
       "      <th>31699</th>\n",
       "      <td>cf8a21a58e070b3e40aa82d27e0b98fa16b3efc193544c...</td>\n",
       "      <td>product_view</td>\n",
       "      <td>98</td>\n",
       "      <td>xl</td>\n",
       "      <td>4</td>\n",
       "      <td>0</td>\n",
       "      <td>False</td>\n",
       "      <td>4.000000</td>\n",
       "      <td>128.666667</td>\n",
       "      <td>4</td>\n",
       "      <td>9</td>\n",
       "    </tr>\n",
       "    <tr>\n",
       "      <th>31700</th>\n",
       "      <td>cf8a21a58e070b3e40aa82d27e0b98fa16b3efc193544c...</td>\n",
       "      <td>product_view</td>\n",
       "      <td>91</td>\n",
       "      <td>xl</td>\n",
       "      <td>4</td>\n",
       "      <td>0</td>\n",
       "      <td>False</td>\n",
       "      <td>4.000000</td>\n",
       "      <td>128.666667</td>\n",
       "      <td>4</td>\n",
       "      <td>9</td>\n",
       "    </tr>\n",
       "    <tr>\n",
       "      <th>31701</th>\n",
       "      <td>1e5a32e922637e79c597de78da536930290f072c42bd92...</td>\n",
       "      <td>product_view</td>\n",
       "      <td>489</td>\n",
       "      <td>m</td>\n",
       "      <td>2</td>\n",
       "      <td>0</td>\n",
       "      <td>False</td>\n",
       "      <td>2.000000</td>\n",
       "      <td>489.000000</td>\n",
       "      <td>2</td>\n",
       "      <td>1</td>\n",
       "    </tr>\n",
       "  </tbody>\n",
       "</table>\n",
       "<p>31702 rows × 11 columns</p>\n",
       "</div>"
      ],
      "text/plain": [
       "                                                 user_id         event  price  \\\n",
       "0      73284db2cd94eeee6a5142a6ff487a3a6ebd0a111b6c92...  product_view    690   \n",
       "1      73284db2cd94eeee6a5142a6ff487a3a6ebd0a111b6c92...  product_view    779   \n",
       "2      73284db2cd94eeee6a5142a6ff487a3a6ebd0a111b6c92...  product_view    529   \n",
       "3      73284db2cd94eeee6a5142a6ff487a3a6ebd0a111b6c92...  product_view    719   \n",
       "4      73284db2cd94eeee6a5142a6ff487a3a6ebd0a111b6c92...  product_view    841   \n",
       "...                                                  ...           ...    ...   \n",
       "31697  cf8a21a58e070b3e40aa82d27e0b98fa16b3efc193544c...  product_view    116   \n",
       "31698  cf8a21a58e070b3e40aa82d27e0b98fa16b3efc193544c...  product_view    186   \n",
       "31699  cf8a21a58e070b3e40aa82d27e0b98fa16b3efc193544c...  product_view     98   \n",
       "31700  cf8a21a58e070b3e40aa82d27e0b98fa16b3efc193544c...  product_view     91   \n",
       "31701  1e5a32e922637e79c597de78da536930290f072c42bd92...  product_view    489   \n",
       "\n",
       "      size  size_int  session_id  has_order  mean_size  mean_price mode_size  \\\n",
       "0        l         3           0       True   3.272727  748.363636         3   \n",
       "1       xl         4           0       True   3.272727  748.363636         3   \n",
       "2       xl         4           0       True   3.272727  748.363636         3   \n",
       "3        l         3           0       True   3.272727  748.363636         3   \n",
       "4        l         3           0       True   3.272727  748.363636         3   \n",
       "...    ...       ...         ...        ...        ...         ...       ...   \n",
       "31697   xl         4           0      False   4.000000  128.666667         4   \n",
       "31698   xl         4           0      False   4.000000  128.666667         4   \n",
       "31699   xl         4           0      False   4.000000  128.666667         4   \n",
       "31700   xl         4           0      False   4.000000  128.666667         4   \n",
       "31701    m         2           0      False   2.000000  489.000000         2   \n",
       "\n",
       "       n_action  \n",
       "0            11  \n",
       "1            11  \n",
       "2            11  \n",
       "3            11  \n",
       "4            11  \n",
       "...         ...  \n",
       "31697         9  \n",
       "31698         9  \n",
       "31699         9  \n",
       "31700         9  \n",
       "31701         1  \n",
       "\n",
       "[31702 rows x 11 columns]"
      ]
     },
     "execution_count": 14,
     "metadata": {},
     "output_type": "execute_result"
    }
   ],
   "source": [
    "df"
   ]
  },
  {
   "cell_type": "markdown",
   "id": "144d108a",
   "metadata": {},
   "source": [
    "## Global Statistics"
   ]
  },
  {
   "cell_type": "markdown",
   "id": "9ae74239",
   "metadata": {},
   "source": [
    "### Users"
   ]
  },
  {
   "cell_type": "markdown",
   "id": "cef0490f",
   "metadata": {},
   "source": [
    "- Number of users"
   ]
  },
  {
   "cell_type": "code",
   "execution_count": 15,
   "id": "d5f1ad4b",
   "metadata": {},
   "outputs": [
    {
     "data": {
      "text/plain": [
       "5000"
      ]
     },
     "execution_count": 15,
     "metadata": {},
     "output_type": "execute_result"
    }
   ],
   "source": [
    "N_USER = df.user_id.nunique()\n",
    "N_USER"
   ]
  },
  {
   "cell_type": "markdown",
   "id": "aa3d616d",
   "metadata": {},
   "source": [
    "- Number of actions"
   ]
  },
  {
   "cell_type": "code",
   "execution_count": 16,
   "id": "93011559",
   "metadata": {},
   "outputs": [
    {
     "data": {
      "text/plain": [
       "<AxesSubplot:ylabel='Frequency'>"
      ]
     },
     "execution_count": 16,
     "metadata": {},
     "output_type": "execute_result"
    },
    {
     "data": {
      "image/png": "[encoded data removed]",
      "text/plain": [
       "<Figure size 1440x720 with 1 Axes>"
      ]
     },
     "metadata": {
      "needs_background": "light"
     },
     "output_type": "display_data"
    }
   ],
   "source": [
    "df.groupby('user_id').event.count().plot.hist()"
   ]
  },
  {
   "cell_type": "code",
   "execution_count": 17,
   "id": "ed829d28",
   "metadata": {},
   "outputs": [
    {
     "data": {
      "text/plain": [
       "<AxesSubplot:ylabel='Frequency'>"
      ]
     },
     "execution_count": 17,
     "metadata": {},
     "output_type": "execute_result"
    },
    {
     "data": {
      "image/png": "[encoded data removed]",
      "text/plain": [
       "<Figure size 1440x720 with 1 Axes>"
      ]
     },
     "metadata": {
      "needs_background": "light"
     },
     "output_type": "display_data"
    }
   ],
   "source": [
    "df.groupby(['user_id', 'event']).event.count().unstack().plot.hist(alpha=0.8)"
   ]
  },
  {
   "cell_type": "markdown",
   "id": "c5533d42",
   "metadata": {},
   "source": [
    "- Proportion of purchases"
   ]
  },
  {
   "cell_type": "code",
   "execution_count": 18,
   "id": "b0b0862c",
   "metadata": {},
   "outputs": [
    {
     "data": {
      "text/plain": [
       "<AxesSubplot:ylabel='Frequency'>"
      ]
     },
     "execution_count": 18,
     "metadata": {},
     "output_type": "execute_result"
    },
    {
     "data": {
      "image/png": "[encoded data removed]",
      "text/plain": [
       "<Figure size 1440x720 with 1 Axes>"
      ]
     },
     "metadata": {
      "needs_background": "light"
     },
     "output_type": "display_data"
    }
   ],
   "source": [
    "users_actions = df.groupby('user_id').event.value_counts().unstack().fillna(0)\n",
    "users_actions['purchase'].plot.hist()"
   ]
  },
  {
   "cell_type": "code",
   "execution_count": 19,
   "id": "fbc3a35a",
   "metadata": {},
   "outputs": [
    {
     "data": {
      "text/plain": [
       "46.62"
      ]
     },
     "execution_count": 19,
     "metadata": {},
     "output_type": "execute_result"
    }
   ],
   "source": [
    "sum(users_actions.purchase > 0) *100 / N_USER"
   ]
  },
  {
   "cell_type": "markdown",
   "id": "409a4247",
   "metadata": {},
   "source": [
    "### Prices"
   ]
  },
  {
   "cell_type": "markdown",
   "id": "a5a4869c",
   "metadata": {},
   "source": [
    "- Distribution of the prices"
   ]
  },
  {
   "cell_type": "code",
   "execution_count": 20,
   "id": "cc4419b4",
   "metadata": {},
   "outputs": [
    {
     "data": {
      "text/plain": [
       "<AxesSubplot:>"
      ]
     },
     "execution_count": 20,
     "metadata": {},
     "output_type": "execute_result"
    },
    {
     "data": {
      "image/png": "[encoded data removed]",
      "text/plain": [
       "<Figure size 1440x720 with 1 Axes>"
      ]
     },
     "metadata": {
      "needs_background": "light"
     },
     "output_type": "display_data"
    }
   ],
   "source": [
    "df.price.hist(bins=100)"
   ]
  },
  {
   "cell_type": "markdown",
   "id": "c1fbcce4",
   "metadata": {},
   "source": [
    "There seems to be 3 distinct categories of products"
   ]
  },
  {
   "cell_type": "markdown",
   "id": "76a4c296",
   "metadata": {},
   "source": [
    "- What are the price of items viewed and items purchased"
   ]
  },
  {
   "cell_type": "code",
   "execution_count": 21,
   "id": "3860e2e8",
   "metadata": {},
   "outputs": [
    {
     "data": {
      "text/plain": [
       "<AxesSubplot:ylabel='Frequency'>"
      ]
     },
     "execution_count": 21,
     "metadata": {},
     "output_type": "execute_result"
    },
    {
     "data": {
      "image/png": "[encoded data removed]",
      "text/plain": [
       "<Figure size 1440x720 with 1 Axes>"
      ]
     },
     "metadata": {
      "needs_background": "light"
     },
     "output_type": "display_data"
    }
   ],
   "source": [
    "df.groupby(['user_id', 'event']).price.mean().unstack().plot.hist(alpha=0.8)"
   ]
  },
  {
   "cell_type": "markdown",
   "id": "d183fab7",
   "metadata": {},
   "source": [
    "### Size"
   ]
  },
  {
   "cell_type": "markdown",
   "id": "785e79c0",
   "metadata": {},
   "source": [
    "- Distribution of the sizes"
   ]
  },
  {
   "cell_type": "code",
   "execution_count": 22,
   "id": "909ba638",
   "metadata": {},
   "outputs": [
    {
     "data": {
      "text/plain": [
       "<AxesSubplot:>"
      ]
     },
     "execution_count": 22,
     "metadata": {},
     "output_type": "execute_result"
    },
    {
     "data": {
      "image/png": "[encoded data removed]",
      "text/plain": [
       "<Figure size 1440x720 with 1 Axes>"
      ]
     },
     "metadata": {
      "needs_background": "light"
     },
     "output_type": "display_data"
    }
   ],
   "source": [
    "df['size'].value_counts().plot.bar()"
   ]
  },
  {
   "cell_type": "markdown",
   "id": "8d41ab97",
   "metadata": {},
   "source": [
    "- Proportion of sessions with the same size value"
   ]
  },
  {
   "cell_type": "code",
   "execution_count": 23,
   "id": "8e42e825",
   "metadata": {},
   "outputs": [
    {
     "data": {
      "text/plain": [
       "71.92448233861145"
      ]
     },
     "execution_count": 23,
     "metadata": {},
     "output_type": "execute_result"
    }
   ],
   "source": [
    "same_size_session_df = df.groupby(['user_id', 'session_id']).first()\n",
    "sum(same_size_session_df['mean_size'].isin(same_size_session_df['mode_size']))*100 / len(same_size_session_df)"
   ]
  },
  {
   "cell_type": "markdown",
   "id": "3bc68b66",
   "metadata": {},
   "source": [
    " - Proportion of users with same size"
   ]
  },
  {
   "cell_type": "code",
   "execution_count": 24,
   "id": "4b1e6bde",
   "metadata": {},
   "outputs": [
    {
     "data": {
      "text/plain": [
       "71.92448233861145"
      ]
     },
     "execution_count": 24,
     "metadata": {},
     "output_type": "execute_result"
    }
   ],
   "source": [
    "same_size_session_df = df.groupby(['user_id', 'session_id']).first()\n",
    "sum(same_size_session_df['mean_size'].isin(same_size_session_df['mode_size']))*100 / len(same_size_session_df)"
   ]
  },
  {
   "cell_type": "code",
   "execution_count": 25,
   "id": "e4537c7f",
   "metadata": {},
   "outputs": [
    {
     "data": {
      "text/plain": [
       "59.18"
      ]
     },
     "execution_count": 25,
     "metadata": {},
     "output_type": "execute_result"
    }
   ],
   "source": [
    "sum(df.groupby(['user_id']).size_int.nunique() == 1) * 100 / N_USER"
   ]
  },
  {
   "cell_type": "markdown",
   "id": "8305de55",
   "metadata": {},
   "source": [
    "This gives us an hint about session. People could by things for other people or having different size for different kind of products."
   ]
  },
  {
   "cell_type": "markdown",
   "id": "0daccdd0",
   "metadata": {},
   "source": [
    "## Predictions"
   ]
  },
  {
   "cell_type": "markdown",
   "id": "c9480533",
   "metadata": {},
   "source": [
    "### Size"
   ]
  },
  {
   "cell_type": "markdown",
   "id": "c0eeddca",
   "metadata": {},
   "source": [
    "Let's observe the number of different size per user:"
   ]
  },
  {
   "cell_type": "code",
   "execution_count": 26,
   "id": "548b3cde",
   "metadata": {},
   "outputs": [
    {
     "data": {
      "text/plain": [
       "1    2959\n",
       "2    1624\n",
       "3     216\n",
       "4     201\n",
       "Name: n_unique_size, dtype: int64"
      ]
     },
     "execution_count": 26,
     "metadata": {},
     "output_type": "execute_result"
    }
   ],
   "source": [
    "df.groupby('user_id').size_int.nunique().rename('n_unique_size').value_counts()"
   ]
  },
  {
   "cell_type": "markdown",
   "id": "2567799c",
   "metadata": {},
   "source": [
    "A majority has only 1 size and it would be safe to predict this size as their main size. When multiple sizes occur, we should rely on the frequency to estimate the probability of each size"
   ]
  },
  {
   "cell_type": "markdown",
   "id": "472ba8ca",
   "metadata": {},
   "source": [
    "###### Example"
   ]
  },
  {
   "cell_type": "code",
   "execution_count": 27,
   "id": "390c0421",
   "metadata": {},
   "outputs": [
    {
     "data": {
      "text/html": [
       "<div>\n",
       "<style scoped>\n",
       "    .dataframe tbody tr th:only-of-type {\n",
       "        vertical-align: middle;\n",
       "    }\n",
       "\n",
       "    .dataframe tbody tr th {\n",
       "        vertical-align: top;\n",
       "    }\n",
       "\n",
       "    .dataframe thead th {\n",
       "        text-align: right;\n",
       "    }\n",
       "</style>\n",
       "<table border=\"1\" class=\"dataframe\">\n",
       "  <thead>\n",
       "    <tr style=\"text-align: right;\">\n",
       "      <th></th>\n",
       "      <th>user_id</th>\n",
       "      <th>event</th>\n",
       "      <th>price</th>\n",
       "      <th>size</th>\n",
       "      <th>size_int</th>\n",
       "      <th>session_id</th>\n",
       "      <th>has_order</th>\n",
       "      <th>mean_size</th>\n",
       "      <th>mean_price</th>\n",
       "      <th>mode_size</th>\n",
       "      <th>n_action</th>\n",
       "    </tr>\n",
       "  </thead>\n",
       "  <tbody>\n",
       "    <tr>\n",
       "      <th>9224</th>\n",
       "      <td>c444f4d096382a889e590974da7b4e3f4e4ff75e8c2277...</td>\n",
       "      <td>product_view</td>\n",
       "      <td>618</td>\n",
       "      <td>m</td>\n",
       "      <td>2</td>\n",
       "      <td>0</td>\n",
       "      <td>True</td>\n",
       "      <td>2.7</td>\n",
       "      <td>739.7</td>\n",
       "      <td>3</td>\n",
       "      <td>10</td>\n",
       "    </tr>\n",
       "    <tr>\n",
       "      <th>9225</th>\n",
       "      <td>c444f4d096382a889e590974da7b4e3f4e4ff75e8c2277...</td>\n",
       "      <td>product_view</td>\n",
       "      <td>616</td>\n",
       "      <td>s</td>\n",
       "      <td>1</td>\n",
       "      <td>0</td>\n",
       "      <td>True</td>\n",
       "      <td>2.7</td>\n",
       "      <td>739.7</td>\n",
       "      <td>3</td>\n",
       "      <td>10</td>\n",
       "    </tr>\n",
       "    <tr>\n",
       "      <th>9226</th>\n",
       "      <td>c444f4d096382a889e590974da7b4e3f4e4ff75e8c2277...</td>\n",
       "      <td>product_view</td>\n",
       "      <td>958</td>\n",
       "      <td>xl</td>\n",
       "      <td>4</td>\n",
       "      <td>0</td>\n",
       "      <td>True</td>\n",
       "      <td>2.7</td>\n",
       "      <td>739.7</td>\n",
       "      <td>3</td>\n",
       "      <td>10</td>\n",
       "    </tr>\n",
       "    <tr>\n",
       "      <th>9227</th>\n",
       "      <td>c444f4d096382a889e590974da7b4e3f4e4ff75e8c2277...</td>\n",
       "      <td>product_view</td>\n",
       "      <td>709</td>\n",
       "      <td>m</td>\n",
       "      <td>2</td>\n",
       "      <td>0</td>\n",
       "      <td>True</td>\n",
       "      <td>2.7</td>\n",
       "      <td>739.7</td>\n",
       "      <td>3</td>\n",
       "      <td>10</td>\n",
       "    </tr>\n",
       "    <tr>\n",
       "      <th>9228</th>\n",
       "      <td>c444f4d096382a889e590974da7b4e3f4e4ff75e8c2277...</td>\n",
       "      <td>product_view</td>\n",
       "      <td>526</td>\n",
       "      <td>l</td>\n",
       "      <td>3</td>\n",
       "      <td>0</td>\n",
       "      <td>True</td>\n",
       "      <td>2.7</td>\n",
       "      <td>739.7</td>\n",
       "      <td>3</td>\n",
       "      <td>10</td>\n",
       "    </tr>\n",
       "    <tr>\n",
       "      <th>9229</th>\n",
       "      <td>c444f4d096382a889e590974da7b4e3f4e4ff75e8c2277...</td>\n",
       "      <td>product_view</td>\n",
       "      <td>665</td>\n",
       "      <td>xl</td>\n",
       "      <td>4</td>\n",
       "      <td>0</td>\n",
       "      <td>True</td>\n",
       "      <td>2.7</td>\n",
       "      <td>739.7</td>\n",
       "      <td>3</td>\n",
       "      <td>10</td>\n",
       "    </tr>\n",
       "    <tr>\n",
       "      <th>9230</th>\n",
       "      <td>c444f4d096382a889e590974da7b4e3f4e4ff75e8c2277...</td>\n",
       "      <td>product_view</td>\n",
       "      <td>838</td>\n",
       "      <td>m</td>\n",
       "      <td>2</td>\n",
       "      <td>0</td>\n",
       "      <td>True</td>\n",
       "      <td>2.7</td>\n",
       "      <td>739.7</td>\n",
       "      <td>3</td>\n",
       "      <td>10</td>\n",
       "    </tr>\n",
       "    <tr>\n",
       "      <th>9231</th>\n",
       "      <td>c444f4d096382a889e590974da7b4e3f4e4ff75e8c2277...</td>\n",
       "      <td>product_view</td>\n",
       "      <td>873</td>\n",
       "      <td>l</td>\n",
       "      <td>3</td>\n",
       "      <td>0</td>\n",
       "      <td>True</td>\n",
       "      <td>2.7</td>\n",
       "      <td>739.7</td>\n",
       "      <td>3</td>\n",
       "      <td>10</td>\n",
       "    </tr>\n",
       "    <tr>\n",
       "      <th>9232</th>\n",
       "      <td>c444f4d096382a889e590974da7b4e3f4e4ff75e8c2277...</td>\n",
       "      <td>product_view</td>\n",
       "      <td>797</td>\n",
       "      <td>l</td>\n",
       "      <td>3</td>\n",
       "      <td>0</td>\n",
       "      <td>True</td>\n",
       "      <td>2.7</td>\n",
       "      <td>739.7</td>\n",
       "      <td>3</td>\n",
       "      <td>10</td>\n",
       "    </tr>\n",
       "    <tr>\n",
       "      <th>9233</th>\n",
       "      <td>c444f4d096382a889e590974da7b4e3f4e4ff75e8c2277...</td>\n",
       "      <td>purchase</td>\n",
       "      <td>797</td>\n",
       "      <td>l</td>\n",
       "      <td>3</td>\n",
       "      <td>0</td>\n",
       "      <td>True</td>\n",
       "      <td>2.7</td>\n",
       "      <td>739.7</td>\n",
       "      <td>3</td>\n",
       "      <td>10</td>\n",
       "    </tr>\n",
       "    <tr>\n",
       "      <th>9234</th>\n",
       "      <td>c444f4d096382a889e590974da7b4e3f4e4ff75e8c2277...</td>\n",
       "      <td>product_view</td>\n",
       "      <td>569</td>\n",
       "      <td>m</td>\n",
       "      <td>2</td>\n",
       "      <td>1</td>\n",
       "      <td>True</td>\n",
       "      <td>2.0</td>\n",
       "      <td>569.0</td>\n",
       "      <td>2</td>\n",
       "      <td>2</td>\n",
       "    </tr>\n",
       "    <tr>\n",
       "      <th>9235</th>\n",
       "      <td>c444f4d096382a889e590974da7b4e3f4e4ff75e8c2277...</td>\n",
       "      <td>purchase</td>\n",
       "      <td>569</td>\n",
       "      <td>m</td>\n",
       "      <td>2</td>\n",
       "      <td>1</td>\n",
       "      <td>True</td>\n",
       "      <td>2.0</td>\n",
       "      <td>569.0</td>\n",
       "      <td>2</td>\n",
       "      <td>2</td>\n",
       "    </tr>\n",
       "  </tbody>\n",
       "</table>\n",
       "</div>"
      ],
      "text/plain": [
       "                                                user_id         event  price  \\\n",
       "9224  c444f4d096382a889e590974da7b4e3f4e4ff75e8c2277...  product_view    618   \n",
       "9225  c444f4d096382a889e590974da7b4e3f4e4ff75e8c2277...  product_view    616   \n",
       "9226  c444f4d096382a889e590974da7b4e3f4e4ff75e8c2277...  product_view    958   \n",
       "9227  c444f4d096382a889e590974da7b4e3f4e4ff75e8c2277...  product_view    709   \n",
       "9228  c444f4d096382a889e590974da7b4e3f4e4ff75e8c2277...  product_view    526   \n",
       "9229  c444f4d096382a889e590974da7b4e3f4e4ff75e8c2277...  product_view    665   \n",
       "9230  c444f4d096382a889e590974da7b4e3f4e4ff75e8c2277...  product_view    838   \n",
       "9231  c444f4d096382a889e590974da7b4e3f4e4ff75e8c2277...  product_view    873   \n",
       "9232  c444f4d096382a889e590974da7b4e3f4e4ff75e8c2277...  product_view    797   \n",
       "9233  c444f4d096382a889e590974da7b4e3f4e4ff75e8c2277...      purchase    797   \n",
       "9234  c444f4d096382a889e590974da7b4e3f4e4ff75e8c2277...  product_view    569   \n",
       "9235  c444f4d096382a889e590974da7b4e3f4e4ff75e8c2277...      purchase    569   \n",
       "\n",
       "     size  size_int  session_id  has_order  mean_size  mean_price mode_size  \\\n",
       "9224    m         2           0       True        2.7       739.7         3   \n",
       "9225    s         1           0       True        2.7       739.7         3   \n",
       "9226   xl         4           0       True        2.7       739.7         3   \n",
       "9227    m         2           0       True        2.7       739.7         3   \n",
       "9228    l         3           0       True        2.7       739.7         3   \n",
       "9229   xl         4           0       True        2.7       739.7         3   \n",
       "9230    m         2           0       True        2.7       739.7         3   \n",
       "9231    l         3           0       True        2.7       739.7         3   \n",
       "9232    l         3           0       True        2.7       739.7         3   \n",
       "9233    l         3           0       True        2.7       739.7         3   \n",
       "9234    m         2           1       True        2.0       569.0         2   \n",
       "9235    m         2           1       True        2.0       569.0         2   \n",
       "\n",
       "      n_action  \n",
       "9224        10  \n",
       "9225        10  \n",
       "9226        10  \n",
       "9227        10  \n",
       "9228        10  \n",
       "9229        10  \n",
       "9230        10  \n",
       "9231        10  \n",
       "9232        10  \n",
       "9233        10  \n",
       "9234         2  \n",
       "9235         2  "
      ]
     },
     "execution_count": 27,
     "metadata": {},
     "output_type": "execute_result"
    }
   ],
   "source": [
    "df_example = df.query('user_id == \"c444f4d096382a889e590974da7b4e3f4e4ff75e8c227718ecb7db0424017c3a\"')\n",
    "df_example"
   ]
  },
  {
   "cell_type": "code",
   "execution_count": 28,
   "id": "8805f6cb",
   "metadata": {},
   "outputs": [
    {
     "data": {
      "text/plain": [
       "<matplotlib.legend.Legend at 0x7fe23a402f28>"
      ]
     },
     "execution_count": 28,
     "metadata": {},
     "output_type": "execute_result"
    },
    {
     "data": {
      "image/png": "[encoded data removed]",
      "text/plain": [
       "<Figure size 1440x720 with 1 Axes>"
      ]
     },
     "metadata": {
      "needs_background": "light"
     },
     "output_type": "display_data"
    }
   ],
   "source": [
    "from scipy.stats import beta\n",
    "import matplotlib.pyplot as plt\n",
    "import numpy as np\n",
    "\n",
    "for i in df[\"size\"].unique():\n",
    "    a = sum(df_example['size'] == i)\n",
    "    b = len(df_example) - a\n",
    "    x = np.arange (-50, 50, 0.1)\n",
    "    y = beta.pdf(x,a,b, scale=100, loc=-50)\n",
    "    plt.plot(x,y, label=i)\n",
    "plt.legend()"
   ]
  },
  {
   "cell_type": "markdown",
   "id": "65f093ed",
   "metadata": {},
   "source": [
    "These are the beta distribution for every size this user interacted with. Sampling along these distribution multiple time will give us a probability of liking each size."
   ]
  },
  {
   "cell_type": "markdown",
   "id": "edf97d65",
   "metadata": {},
   "source": [
    "We can also view that with a fake example and a"
   ]
  },
  {
   "cell_type": "code",
   "execution_count": 29,
   "id": "4976f9f6",
   "metadata": {},
   "outputs": [
    {
     "data": {
      "image/png": "[encoded data removed]",
      "text/plain": [
       "<Figure size 1080x864 with 3 Axes>"
      ]
     },
     "metadata": {
      "needs_background": "light"
     },
     "output_type": "display_data"
    }
   ],
   "source": [
    "from scipy import stats\n",
    "\n",
    "import matplotlib.gridspec as gridspec\n",
    "\n",
    "N_plot = 1000\n",
    "    \n",
    "X = np.linspace(0, 1,N_plot)\n",
    "\n",
    "posterior_a = stats.beta.pdf(X, \n",
    "                             8,\n",
    "                             5)\n",
    "posterior_b = stats.beta.pdf(X, \n",
    "                             5,\n",
    "                             8)\n",
    "\n",
    "A, B = np.meshgrid(posterior_a, posterior_b)\n",
    "\n",
    "Z = A * B\n",
    "\n",
    "f = plt.figure(figsize=(15,12))\n",
    "gs0 = gridspec.GridSpec(5, 6, figure=f, wspace=.02, hspace=.02)\n",
    "ax1 = f.add_subplot(gs0[1:, :-2])\n",
    "ax2 = f.add_subplot(gs0[:1, :-2])\n",
    "ax3 = f.add_subplot(gs0[1:, -2:-1])\n",
    "\n",
    "ax1.contourf(X, X, Z, cmap= 'Blues')\n",
    "ax1.plot(X, X, color = 'orange', label = '$\\lambda_A = \\lambda_B$')\n",
    "ax2.plot(X, posterior_a)\n",
    "ax3.plot(posterior_b, X)\n",
    "\n",
    "ax1.set_xlabel('$\\lambda_A$')\n",
    "ax1.set_ylabel('$\\lambda_B$')\n",
    "\n",
    "ax3.set_axis_off()\n",
    "ax2.set_axis_off()\n",
    "\n",
    "ax1.legend()\n",
    "plt.show()"
   ]
  },
  {
   "cell_type": "markdown",
   "id": "1e61f0ae",
   "metadata": {},
   "source": [
    "###### Application"
   ]
  },
  {
   "cell_type": "code",
   "execution_count": 30,
   "id": "7da2343b",
   "metadata": {},
   "outputs": [],
   "source": [
    "def sample(n_actions, count_s, count_m, count_l, count_xl):\n",
    "    \"\"\"\n",
    "    This function takes the frequency of each size for one user\n",
    "    and sample the probability using beta distributions\n",
    "    A mask of the best value is returned\n",
    "    \"\"\"\n",
    "    sampling = []\n",
    "    for i in [count_s, count_m, count_l, count_xl]:\n",
    "        if i == n_actions:\n",
    "            sampling.append(1)\n",
    "        elif i == 0:\n",
    "            sampling.append(0)\n",
    "        else:\n",
    "            sampling.append(np.random.beta(i, n_actions - i))\n",
    "    res = np.zeros(4)\n",
    "    res[np.array(sampling).argmax()] = 1\n",
    "    return res\n",
    "\n",
    "\n",
    "def get_proba(user_id, count_s, count_m, count_l, count_xl):\n",
    "    \"\"\"\n",
    "        Use previous sampling to average the prefered size of the user\n",
    "    \"\"\"\n",
    "    n_actions = count_s + count_m + count_l + count_xl\n",
    "    probas = [sample(n_actions, count_s, count_m, count_l, count_xl) for i in range(1000)]\n",
    "    probas = (np.array(probas).sum(axis=0) / 1000).round(2)\n",
    "                \n",
    "    return {\n",
    "        \"user_id\": user_id,\n",
    "        \"size_s\": probas[0],\n",
    "        \"size_m\": probas[1],\n",
    "        \"size_l\": probas[2],\n",
    "        \"size_xl\": probas[3],\n",
    "    }"
   ]
  },
  {
   "cell_type": "code",
   "execution_count": 31,
   "id": "574cd9e3",
   "metadata": {},
   "outputs": [
    {
     "data": {
      "text/html": [
       "<div>\n",
       "<style scoped>\n",
       "    .dataframe tbody tr th:only-of-type {\n",
       "        vertical-align: middle;\n",
       "    }\n",
       "\n",
       "    .dataframe tbody tr th {\n",
       "        vertical-align: top;\n",
       "    }\n",
       "\n",
       "    .dataframe thead th {\n",
       "        text-align: right;\n",
       "    }\n",
       "</style>\n",
       "<table border=\"1\" class=\"dataframe\">\n",
       "  <thead>\n",
       "    <tr style=\"text-align: right;\">\n",
       "      <th></th>\n",
       "      <th>size_s</th>\n",
       "      <th>size_m</th>\n",
       "      <th>size_l</th>\n",
       "      <th>size_xl</th>\n",
       "    </tr>\n",
       "    <tr>\n",
       "      <th>user_id</th>\n",
       "      <th></th>\n",
       "      <th></th>\n",
       "      <th></th>\n",
       "      <th></th>\n",
       "    </tr>\n",
       "  </thead>\n",
       "  <tbody>\n",
       "    <tr>\n",
       "      <th>0003e353c219598fb1c1cd1a5c2873bbc64e2a973e594b4ce9346461f0f53705</th>\n",
       "      <td>0.0</td>\n",
       "      <td>0.00</td>\n",
       "      <td>0.00</td>\n",
       "      <td>1.0</td>\n",
       "    </tr>\n",
       "    <tr>\n",
       "      <th>00253fb09b8d40fe3594660db0bae6e2ad1907686f53789f1d18a8fa1f6da547</th>\n",
       "      <td>0.0</td>\n",
       "      <td>0.85</td>\n",
       "      <td>0.15</td>\n",
       "      <td>0.0</td>\n",
       "    </tr>\n",
       "    <tr>\n",
       "      <th>00265617b338e660f106406fbf5a8f28dc24296db6d82eb02680a5479601a14d</th>\n",
       "      <td>0.0</td>\n",
       "      <td>1.00</td>\n",
       "      <td>0.00</td>\n",
       "      <td>0.0</td>\n",
       "    </tr>\n",
       "    <tr>\n",
       "      <th>002a8623bc303ed3ff5034e28104af2b04e3af0e3902e4498a6406f1437c4ca0</th>\n",
       "      <td>0.5</td>\n",
       "      <td>0.50</td>\n",
       "      <td>0.00</td>\n",
       "      <td>0.0</td>\n",
       "    </tr>\n",
       "    <tr>\n",
       "      <th>005b8ccdb27416ecec480a05e0a0f72968546ad2edd2ff0c433d4c4b3456ad20</th>\n",
       "      <td>0.0</td>\n",
       "      <td>1.00</td>\n",
       "      <td>0.00</td>\n",
       "      <td>0.0</td>\n",
       "    </tr>\n",
       "    <tr>\n",
       "      <th>...</th>\n",
       "      <td>...</td>\n",
       "      <td>...</td>\n",
       "      <td>...</td>\n",
       "      <td>...</td>\n",
       "    </tr>\n",
       "    <tr>\n",
       "      <th>ffc4127b844adaeeddafa7697cf0fac68f521f1f25bf95e811da81602631b544</th>\n",
       "      <td>0.0</td>\n",
       "      <td>1.00</td>\n",
       "      <td>0.00</td>\n",
       "      <td>0.0</td>\n",
       "    </tr>\n",
       "    <tr>\n",
       "      <th>ffd02895b8cdb693f30b9f1911f99a7266d0be8020e9cb38c752d381eb144dd5</th>\n",
       "      <td>0.0</td>\n",
       "      <td>0.00</td>\n",
       "      <td>0.00</td>\n",
       "      <td>1.0</td>\n",
       "    </tr>\n",
       "    <tr>\n",
       "      <th>ffd32f4e58574db637754d4abc58ee93c5b98b98e31e3975d5a5c75f6349033c</th>\n",
       "      <td>0.0</td>\n",
       "      <td>0.00</td>\n",
       "      <td>0.00</td>\n",
       "      <td>1.0</td>\n",
       "    </tr>\n",
       "    <tr>\n",
       "      <th>fff8a48025a9703b83cf83cc477a14b239bc4181a1a1512fc1fc0bb1b7713475</th>\n",
       "      <td>0.0</td>\n",
       "      <td>0.00</td>\n",
       "      <td>0.50</td>\n",
       "      <td>0.5</td>\n",
       "    </tr>\n",
       "    <tr>\n",
       "      <th>fffab5058a6af5419e3828e9ac131d9ea181b26b47f9b61d4f96c5ea5a0bede3</th>\n",
       "      <td>0.0</td>\n",
       "      <td>1.00</td>\n",
       "      <td>0.00</td>\n",
       "      <td>0.0</td>\n",
       "    </tr>\n",
       "  </tbody>\n",
       "</table>\n",
       "<p>5000 rows × 4 columns</p>\n",
       "</div>"
      ],
      "text/plain": [
       "                                                    size_s  size_m  size_l  \\\n",
       "user_id                                                                      \n",
       "0003e353c219598fb1c1cd1a5c2873bbc64e2a973e594b4...     0.0    0.00    0.00   \n",
       "00253fb09b8d40fe3594660db0bae6e2ad1907686f53789...     0.0    0.85    0.15   \n",
       "00265617b338e660f106406fbf5a8f28dc24296db6d82eb...     0.0    1.00    0.00   \n",
       "002a8623bc303ed3ff5034e28104af2b04e3af0e3902e44...     0.5    0.50    0.00   \n",
       "005b8ccdb27416ecec480a05e0a0f72968546ad2edd2ff0...     0.0    1.00    0.00   \n",
       "...                                                    ...     ...     ...   \n",
       "ffc4127b844adaeeddafa7697cf0fac68f521f1f25bf95e...     0.0    1.00    0.00   \n",
       "ffd02895b8cdb693f30b9f1911f99a7266d0be8020e9cb3...     0.0    0.00    0.00   \n",
       "ffd32f4e58574db637754d4abc58ee93c5b98b98e31e397...     0.0    0.00    0.00   \n",
       "fff8a48025a9703b83cf83cc477a14b239bc4181a1a1512...     0.0    0.00    0.50   \n",
       "fffab5058a6af5419e3828e9ac131d9ea181b26b47f9b61...     0.0    1.00    0.00   \n",
       "\n",
       "                                                    size_xl  \n",
       "user_id                                                      \n",
       "0003e353c219598fb1c1cd1a5c2873bbc64e2a973e594b4...      1.0  \n",
       "00253fb09b8d40fe3594660db0bae6e2ad1907686f53789...      0.0  \n",
       "00265617b338e660f106406fbf5a8f28dc24296db6d82eb...      0.0  \n",
       "002a8623bc303ed3ff5034e28104af2b04e3af0e3902e44...      0.0  \n",
       "005b8ccdb27416ecec480a05e0a0f72968546ad2edd2ff0...      0.0  \n",
       "...                                                     ...  \n",
       "ffc4127b844adaeeddafa7697cf0fac68f521f1f25bf95e...      0.0  \n",
       "ffd02895b8cdb693f30b9f1911f99a7266d0be8020e9cb3...      1.0  \n",
       "ffd32f4e58574db637754d4abc58ee93c5b98b98e31e397...      1.0  \n",
       "fff8a48025a9703b83cf83cc477a14b239bc4181a1a1512...      0.5  \n",
       "fffab5058a6af5419e3828e9ac131d9ea181b26b47f9b61...      0.0  \n",
       "\n",
       "[5000 rows x 4 columns]"
      ]
     },
     "execution_count": 31,
     "metadata": {},
     "output_type": "execute_result"
    }
   ],
   "source": [
    "# Apply the get_proba function to every users\n",
    "size_prediction_df = (\n",
    "    df.groupby('user_id')['size']\n",
    "      .value_counts()\n",
    "      .unstack()\n",
    "      .add_prefix('count_')\n",
    "      .reset_index()\n",
    "      .fillna(0)\n",
    "      .apply(lambda x: get_proba(**x.to_dict()), axis=1)\n",
    "      .apply(pd.Series)\n",
    "      .set_index('user_id')\n",
    ")\n",
    "size_prediction_df"
   ]
  },
  {
   "cell_type": "markdown",
   "id": "38e22e91",
   "metadata": {},
   "source": [
    "Let saves these prediction in a json file"
   ]
  },
  {
   "cell_type": "code",
   "execution_count": 32,
   "id": "d9391fd4",
   "metadata": {},
   "outputs": [],
   "source": [
    "size_prediction_df.reset_index().to_json('data/size_predictions.json', lines=True, orient=\"records\")"
   ]
  },
  {
   "cell_type": "markdown",
   "id": "fcfe79d6",
   "metadata": {},
   "source": [
    "### Price"
   ]
  },
  {
   "cell_type": "markdown",
   "id": "2ba3b06a",
   "metadata": {},
   "source": [
    "#### Simple Solution"
   ]
  },
  {
   "cell_type": "markdown",
   "id": "32601d3e",
   "metadata": {},
   "source": [
    "Simple bounds using mean and standard deviation"
   ]
  },
  {
   "cell_type": "code",
   "execution_count": 33,
   "id": "fc0b5811",
   "metadata": {},
   "outputs": [
    {
     "data": {
      "text/html": [
       "<div>\n",
       "<style scoped>\n",
       "    .dataframe tbody tr th:only-of-type {\n",
       "        vertical-align: middle;\n",
       "    }\n",
       "\n",
       "    .dataframe tbody tr th {\n",
       "        vertical-align: top;\n",
       "    }\n",
       "\n",
       "    .dataframe thead th {\n",
       "        text-align: right;\n",
       "    }\n",
       "</style>\n",
       "<table border=\"1\" class=\"dataframe\">\n",
       "  <thead>\n",
       "    <tr style=\"text-align: right;\">\n",
       "      <th></th>\n",
       "      <th>lower_bound</th>\n",
       "      <th>upper_bound</th>\n",
       "    </tr>\n",
       "    <tr>\n",
       "      <th>user_id</th>\n",
       "      <th></th>\n",
       "      <th></th>\n",
       "    </tr>\n",
       "  </thead>\n",
       "  <tbody>\n",
       "    <tr>\n",
       "      <th>0003e353c219598fb1c1cd1a5c2873bbc64e2a973e594b4ce9346461f0f53705</th>\n",
       "      <td>322.0</td>\n",
       "      <td>465.0</td>\n",
       "    </tr>\n",
       "    <tr>\n",
       "      <th>00253fb09b8d40fe3594660db0bae6e2ad1907686f53789f1d18a8fa1f6da547</th>\n",
       "      <td>331.0</td>\n",
       "      <td>472.0</td>\n",
       "    </tr>\n",
       "    <tr>\n",
       "      <th>00265617b338e660f106406fbf5a8f28dc24296db6d82eb02680a5479601a14d</th>\n",
       "      <td>83.0</td>\n",
       "      <td>83.0</td>\n",
       "    </tr>\n",
       "    <tr>\n",
       "      <th>002a8623bc303ed3ff5034e28104af2b04e3af0e3902e4498a6406f1437c4ca0</th>\n",
       "      <td>96.0</td>\n",
       "      <td>110.0</td>\n",
       "    </tr>\n",
       "    <tr>\n",
       "      <th>005b8ccdb27416ecec480a05e0a0f72968546ad2edd2ff0c433d4c4b3456ad20</th>\n",
       "      <td>647.0</td>\n",
       "      <td>954.0</td>\n",
       "    </tr>\n",
       "    <tr>\n",
       "      <th>...</th>\n",
       "      <td>...</td>\n",
       "      <td>...</td>\n",
       "    </tr>\n",
       "    <tr>\n",
       "      <th>ffc4127b844adaeeddafa7697cf0fac68f521f1f25bf95e811da81602631b544</th>\n",
       "      <td>462.0</td>\n",
       "      <td>462.0</td>\n",
       "    </tr>\n",
       "    <tr>\n",
       "      <th>ffd02895b8cdb693f30b9f1911f99a7266d0be8020e9cb38c752d381eb144dd5</th>\n",
       "      <td>672.0</td>\n",
       "      <td>867.0</td>\n",
       "    </tr>\n",
       "    <tr>\n",
       "      <th>ffd32f4e58574db637754d4abc58ee93c5b98b98e31e3975d5a5c75f6349033c</th>\n",
       "      <td>533.0</td>\n",
       "      <td>881.0</td>\n",
       "    </tr>\n",
       "    <tr>\n",
       "      <th>fff8a48025a9703b83cf83cc477a14b239bc4181a1a1512fc1fc0bb1b7713475</th>\n",
       "      <td>563.0</td>\n",
       "      <td>826.0</td>\n",
       "    </tr>\n",
       "    <tr>\n",
       "      <th>fffab5058a6af5419e3828e9ac131d9ea181b26b47f9b61d4f96c5ea5a0bede3</th>\n",
       "      <td>713.0</td>\n",
       "      <td>862.0</td>\n",
       "    </tr>\n",
       "  </tbody>\n",
       "</table>\n",
       "<p>5000 rows × 2 columns</p>\n",
       "</div>"
      ],
      "text/plain": [
       "                                                    lower_bound  upper_bound\n",
       "user_id                                                                     \n",
       "0003e353c219598fb1c1cd1a5c2873bbc64e2a973e594b4...        322.0        465.0\n",
       "00253fb09b8d40fe3594660db0bae6e2ad1907686f53789...        331.0        472.0\n",
       "00265617b338e660f106406fbf5a8f28dc24296db6d82eb...         83.0         83.0\n",
       "002a8623bc303ed3ff5034e28104af2b04e3af0e3902e44...         96.0        110.0\n",
       "005b8ccdb27416ecec480a05e0a0f72968546ad2edd2ff0...        647.0        954.0\n",
       "...                                                         ...          ...\n",
       "ffc4127b844adaeeddafa7697cf0fac68f521f1f25bf95e...        462.0        462.0\n",
       "ffd02895b8cdb693f30b9f1911f99a7266d0be8020e9cb3...        672.0        867.0\n",
       "ffd32f4e58574db637754d4abc58ee93c5b98b98e31e397...        533.0        881.0\n",
       "fff8a48025a9703b83cf83cc477a14b239bc4181a1a1512...        563.0        826.0\n",
       "fffab5058a6af5419e3828e9ac131d9ea181b26b47f9b61...        713.0        862.0\n",
       "\n",
       "[5000 rows x 2 columns]"
      ]
     },
     "execution_count": 33,
     "metadata": {},
     "output_type": "execute_result"
    }
   ],
   "source": [
    "price_prediction_df = df.groupby('user_id')['price'].apply(lambda x: [np.mean(x) - np.std(x), np.mean(x) + np.std(x)]).apply(pd.Series).round()\n",
    "price_prediction_df.columns = [\"lower_bound\", \"upper_bound\"]\n",
    "price_prediction_df"
   ]
  },
  {
   "cell_type": "markdown",
   "id": "e3547598",
   "metadata": {},
   "source": [
    "Saving the data"
   ]
  },
  {
   "cell_type": "code",
   "execution_count": 34,
   "id": "b022a6d4",
   "metadata": {},
   "outputs": [],
   "source": [
    "price_prediction_df.reset_index().to_json(\"data/price_predictions_simple.json\", orient=\"records\", lines=True)"
   ]
  },
  {
   "cell_type": "markdown",
   "id": "1149b52d",
   "metadata": {},
   "source": [
    "#### More complex solution"
   ]
  },
  {
   "cell_type": "markdown",
   "id": "58dd29da",
   "metadata": {},
   "source": [
    "Let's observe a user with lots of events"
   ]
  },
  {
   "cell_type": "code",
   "execution_count": 35,
   "id": "45aa43a1",
   "metadata": {},
   "outputs": [
    {
     "data": {
      "text/plain": [
       "user_id\n",
       "2842e362a783727e56c4547f952cd5f7b4e807c41fa0dcb4822afd9fd35d29f3     1\n",
       "55df2d7ff2f4436c1e60ae3adc9359ae8655612270680a84e7a2c7903884a2d7     1\n",
       "883e7483b9c8b16900e30a9f0e7639d09ac84bf53567f8e6878d327e7eca8432     1\n",
       "88716ae4e118538bbb7cc89e3ee1e4c63b3fe89ce0333bb912a6ca9012e89d36     1\n",
       "f6c6c35592320268951526a57ddef21b4a5f59799bdffdd5d6ce00f8a13e792e     1\n",
       "                                                                    ..\n",
       "effabf5eae4c1b48f401aae0436fd6adedbe6c4468adf17a359149d8796b5315    13\n",
       "766459420fa9d5dd4f4ffd91953e82df2b7c9a545f271bf0d06a08ea210a248d    13\n",
       "1d8e6f127c8fad957edb2c18a970b0c6eb16872421d7f57102884a36b8de926d    13\n",
       "024f89c5d5bf77fdddfbdb006e5164b92f4a49adad3f1293cb27a8d8818f5497    13\n",
       "3d77e33d2c26544104d23a7536c88b02b2e0faf4df2b63590df5789e4a89991d    13\n",
       "Name: price, Length: 5000, dtype: int64"
      ]
     },
     "execution_count": 35,
     "metadata": {},
     "output_type": "execute_result"
    }
   ],
   "source": [
    "df.groupby('user_id')['price'].count().sort_values()"
   ]
  },
  {
   "cell_type": "code",
   "execution_count": 36,
   "id": "e66d323b",
   "metadata": {},
   "outputs": [
    {
     "data": {
      "text/html": [
       "<div>\n",
       "<style scoped>\n",
       "    .dataframe tbody tr th:only-of-type {\n",
       "        vertical-align: middle;\n",
       "    }\n",
       "\n",
       "    .dataframe tbody tr th {\n",
       "        vertical-align: top;\n",
       "    }\n",
       "\n",
       "    .dataframe thead th {\n",
       "        text-align: right;\n",
       "    }\n",
       "</style>\n",
       "<table border=\"1\" class=\"dataframe\">\n",
       "  <thead>\n",
       "    <tr style=\"text-align: right;\">\n",
       "      <th></th>\n",
       "      <th>user_id</th>\n",
       "      <th>event</th>\n",
       "      <th>price</th>\n",
       "      <th>size</th>\n",
       "      <th>size_int</th>\n",
       "      <th>session_id</th>\n",
       "      <th>has_order</th>\n",
       "      <th>mean_size</th>\n",
       "      <th>mean_price</th>\n",
       "      <th>mode_size</th>\n",
       "      <th>n_action</th>\n",
       "    </tr>\n",
       "  </thead>\n",
       "  <tbody>\n",
       "    <tr>\n",
       "      <th>31068</th>\n",
       "      <td>3d77e33d2c26544104d23a7536c88b02b2e0faf4df2b63...</td>\n",
       "      <td>product_view</td>\n",
       "      <td>735</td>\n",
       "      <td>s</td>\n",
       "      <td>1</td>\n",
       "      <td>0</td>\n",
       "      <td>True</td>\n",
       "      <td>1.0</td>\n",
       "      <td>571.777778</td>\n",
       "      <td>1</td>\n",
       "      <td>9</td>\n",
       "    </tr>\n",
       "    <tr>\n",
       "      <th>31069</th>\n",
       "      <td>3d77e33d2c26544104d23a7536c88b02b2e0faf4df2b63...</td>\n",
       "      <td>product_view</td>\n",
       "      <td>770</td>\n",
       "      <td>s</td>\n",
       "      <td>1</td>\n",
       "      <td>0</td>\n",
       "      <td>True</td>\n",
       "      <td>1.0</td>\n",
       "      <td>571.777778</td>\n",
       "      <td>1</td>\n",
       "      <td>9</td>\n",
       "    </tr>\n",
       "    <tr>\n",
       "      <th>31070</th>\n",
       "      <td>3d77e33d2c26544104d23a7536c88b02b2e0faf4df2b63...</td>\n",
       "      <td>product_view</td>\n",
       "      <td>685</td>\n",
       "      <td>s</td>\n",
       "      <td>1</td>\n",
       "      <td>0</td>\n",
       "      <td>True</td>\n",
       "      <td>1.0</td>\n",
       "      <td>571.777778</td>\n",
       "      <td>1</td>\n",
       "      <td>9</td>\n",
       "    </tr>\n",
       "    <tr>\n",
       "      <th>31071</th>\n",
       "      <td>3d77e33d2c26544104d23a7536c88b02b2e0faf4df2b63...</td>\n",
       "      <td>product_view</td>\n",
       "      <td>970</td>\n",
       "      <td>s</td>\n",
       "      <td>1</td>\n",
       "      <td>0</td>\n",
       "      <td>True</td>\n",
       "      <td>1.0</td>\n",
       "      <td>571.777778</td>\n",
       "      <td>1</td>\n",
       "      <td>9</td>\n",
       "    </tr>\n",
       "    <tr>\n",
       "      <th>31072</th>\n",
       "      <td>3d77e33d2c26544104d23a7536c88b02b2e0faf4df2b63...</td>\n",
       "      <td>product_view</td>\n",
       "      <td>76</td>\n",
       "      <td>s</td>\n",
       "      <td>1</td>\n",
       "      <td>0</td>\n",
       "      <td>True</td>\n",
       "      <td>1.0</td>\n",
       "      <td>571.777778</td>\n",
       "      <td>1</td>\n",
       "      <td>9</td>\n",
       "    </tr>\n",
       "    <tr>\n",
       "      <th>31073</th>\n",
       "      <td>3d77e33d2c26544104d23a7536c88b02b2e0faf4df2b63...</td>\n",
       "      <td>product_view</td>\n",
       "      <td>839</td>\n",
       "      <td>s</td>\n",
       "      <td>1</td>\n",
       "      <td>0</td>\n",
       "      <td>True</td>\n",
       "      <td>1.0</td>\n",
       "      <td>571.777778</td>\n",
       "      <td>1</td>\n",
       "      <td>9</td>\n",
       "    </tr>\n",
       "    <tr>\n",
       "      <th>31074</th>\n",
       "      <td>3d77e33d2c26544104d23a7536c88b02b2e0faf4df2b63...</td>\n",
       "      <td>product_view</td>\n",
       "      <td>833</td>\n",
       "      <td>s</td>\n",
       "      <td>1</td>\n",
       "      <td>0</td>\n",
       "      <td>True</td>\n",
       "      <td>1.0</td>\n",
       "      <td>571.777778</td>\n",
       "      <td>1</td>\n",
       "      <td>9</td>\n",
       "    </tr>\n",
       "    <tr>\n",
       "      <th>31075</th>\n",
       "      <td>3d77e33d2c26544104d23a7536c88b02b2e0faf4df2b63...</td>\n",
       "      <td>product_view</td>\n",
       "      <td>119</td>\n",
       "      <td>s</td>\n",
       "      <td>1</td>\n",
       "      <td>0</td>\n",
       "      <td>True</td>\n",
       "      <td>1.0</td>\n",
       "      <td>571.777778</td>\n",
       "      <td>1</td>\n",
       "      <td>9</td>\n",
       "    </tr>\n",
       "    <tr>\n",
       "      <th>31076</th>\n",
       "      <td>3d77e33d2c26544104d23a7536c88b02b2e0faf4df2b63...</td>\n",
       "      <td>purchase</td>\n",
       "      <td>119</td>\n",
       "      <td>s</td>\n",
       "      <td>1</td>\n",
       "      <td>0</td>\n",
       "      <td>True</td>\n",
       "      <td>1.0</td>\n",
       "      <td>571.777778</td>\n",
       "      <td>1</td>\n",
       "      <td>9</td>\n",
       "    </tr>\n",
       "    <tr>\n",
       "      <th>31077</th>\n",
       "      <td>3d77e33d2c26544104d23a7536c88b02b2e0faf4df2b63...</td>\n",
       "      <td>product_view</td>\n",
       "      <td>627</td>\n",
       "      <td>s</td>\n",
       "      <td>1</td>\n",
       "      <td>1</td>\n",
       "      <td>True</td>\n",
       "      <td>1.0</td>\n",
       "      <td>627.000000</td>\n",
       "      <td>1</td>\n",
       "      <td>2</td>\n",
       "    </tr>\n",
       "    <tr>\n",
       "      <th>31078</th>\n",
       "      <td>3d77e33d2c26544104d23a7536c88b02b2e0faf4df2b63...</td>\n",
       "      <td>purchase</td>\n",
       "      <td>627</td>\n",
       "      <td>s</td>\n",
       "      <td>1</td>\n",
       "      <td>1</td>\n",
       "      <td>True</td>\n",
       "      <td>1.0</td>\n",
       "      <td>627.000000</td>\n",
       "      <td>1</td>\n",
       "      <td>2</td>\n",
       "    </tr>\n",
       "    <tr>\n",
       "      <th>31079</th>\n",
       "      <td>3d77e33d2c26544104d23a7536c88b02b2e0faf4df2b63...</td>\n",
       "      <td>product_view</td>\n",
       "      <td>573</td>\n",
       "      <td>s</td>\n",
       "      <td>1</td>\n",
       "      <td>2</td>\n",
       "      <td>True</td>\n",
       "      <td>1.0</td>\n",
       "      <td>573.000000</td>\n",
       "      <td>1</td>\n",
       "      <td>2</td>\n",
       "    </tr>\n",
       "    <tr>\n",
       "      <th>31080</th>\n",
       "      <td>3d77e33d2c26544104d23a7536c88b02b2e0faf4df2b63...</td>\n",
       "      <td>purchase</td>\n",
       "      <td>573</td>\n",
       "      <td>s</td>\n",
       "      <td>1</td>\n",
       "      <td>2</td>\n",
       "      <td>True</td>\n",
       "      <td>1.0</td>\n",
       "      <td>573.000000</td>\n",
       "      <td>1</td>\n",
       "      <td>2</td>\n",
       "    </tr>\n",
       "  </tbody>\n",
       "</table>\n",
       "</div>"
      ],
      "text/plain": [
       "                                                 user_id         event  price  \\\n",
       "31068  3d77e33d2c26544104d23a7536c88b02b2e0faf4df2b63...  product_view    735   \n",
       "31069  3d77e33d2c26544104d23a7536c88b02b2e0faf4df2b63...  product_view    770   \n",
       "31070  3d77e33d2c26544104d23a7536c88b02b2e0faf4df2b63...  product_view    685   \n",
       "31071  3d77e33d2c26544104d23a7536c88b02b2e0faf4df2b63...  product_view    970   \n",
       "31072  3d77e33d2c26544104d23a7536c88b02b2e0faf4df2b63...  product_view     76   \n",
       "31073  3d77e33d2c26544104d23a7536c88b02b2e0faf4df2b63...  product_view    839   \n",
       "31074  3d77e33d2c26544104d23a7536c88b02b2e0faf4df2b63...  product_view    833   \n",
       "31075  3d77e33d2c26544104d23a7536c88b02b2e0faf4df2b63...  product_view    119   \n",
       "31076  3d77e33d2c26544104d23a7536c88b02b2e0faf4df2b63...      purchase    119   \n",
       "31077  3d77e33d2c26544104d23a7536c88b02b2e0faf4df2b63...  product_view    627   \n",
       "31078  3d77e33d2c26544104d23a7536c88b02b2e0faf4df2b63...      purchase    627   \n",
       "31079  3d77e33d2c26544104d23a7536c88b02b2e0faf4df2b63...  product_view    573   \n",
       "31080  3d77e33d2c26544104d23a7536c88b02b2e0faf4df2b63...      purchase    573   \n",
       "\n",
       "      size  size_int  session_id  has_order  mean_size  mean_price mode_size  \\\n",
       "31068    s         1           0       True        1.0  571.777778         1   \n",
       "31069    s         1           0       True        1.0  571.777778         1   \n",
       "31070    s         1           0       True        1.0  571.777778         1   \n",
       "31071    s         1           0       True        1.0  571.777778         1   \n",
       "31072    s         1           0       True        1.0  571.777778         1   \n",
       "31073    s         1           0       True        1.0  571.777778         1   \n",
       "31074    s         1           0       True        1.0  571.777778         1   \n",
       "31075    s         1           0       True        1.0  571.777778         1   \n",
       "31076    s         1           0       True        1.0  571.777778         1   \n",
       "31077    s         1           1       True        1.0  627.000000         1   \n",
       "31078    s         1           1       True        1.0  627.000000         1   \n",
       "31079    s         1           2       True        1.0  573.000000         1   \n",
       "31080    s         1           2       True        1.0  573.000000         1   \n",
       "\n",
       "       n_action  \n",
       "31068         9  \n",
       "31069         9  \n",
       "31070         9  \n",
       "31071         9  \n",
       "31072         9  \n",
       "31073         9  \n",
       "31074         9  \n",
       "31075         9  \n",
       "31076         9  \n",
       "31077         2  \n",
       "31078         2  \n",
       "31079         2  \n",
       "31080         2  "
      ]
     },
     "execution_count": 36,
     "metadata": {},
     "output_type": "execute_result"
    }
   ],
   "source": [
    "example = df.query('user_id == \"3d77e33d2c26544104d23a7536c88b02b2e0faf4df2b63590df5789e4a89991d\"')\n",
    "example"
   ]
  },
  {
   "cell_type": "code",
   "execution_count": 37,
   "id": "6f1a6e6c",
   "metadata": {},
   "outputs": [
    {
     "data": {
      "image/png": "[encoded data removed]",
      "text/plain": [
       "<Figure size 1440x720 with 1 Axes>"
      ]
     },
     "metadata": {
      "needs_background": "light"
     },
     "output_type": "display_data"
    }
   ],
   "source": [
    "data = example.price.values\n",
    "plt.hist(data, bins=15, color='black', alpha=.5)\n",
    "plt.xlabel('price')\n",
    "plt.ylabel('count')\n",
    "plt.show()"
   ]
  },
  {
   "cell_type": "code",
   "execution_count": 38,
   "id": "db623e6e",
   "metadata": {},
   "outputs": [
    {
     "data": {
      "text/plain": [
       "(580.4615384615385, 79839.32544378698)"
      ]
     },
     "execution_count": 38,
     "metadata": {},
     "output_type": "execute_result"
    }
   ],
   "source": [
    "np.mean(data), np.var(data)"
   ]
  },
  {
   "cell_type": "code",
   "execution_count": 39,
   "id": "4c0b025b",
   "metadata": {},
   "outputs": [],
   "source": [
    "def gaussian(m, v, x):\n",
    "    out = (1 / np.sqrt(2*np.pi*v)) * np.exp(-(x - m)**2 / (2*v))\n",
    "    return out\n",
    "\n",
    "def gaussian_f(m, v, x):\n",
    "    out = np.zeros(x.shape)\n",
    "    for i,xx in enumerate(x):\n",
    "        out[i] = gaussian(m, v, xx)\n",
    "    return out"
   ]
  },
  {
   "cell_type": "markdown",
   "id": "6785d357",
   "metadata": {},
   "source": [
    "Let's plot possible gaussian distribution which could fit this data"
   ]
  },
  {
   "cell_type": "code",
   "execution_count": 40,
   "id": "bed4e651",
   "metadata": {},
   "outputs": [
    {
     "data": {
      "image/png": "[encoded data removed]",
      "text/plain": [
       "<Figure size 720x432 with 1 Axes>"
      ]
     },
     "metadata": {
      "needs_background": "light"
     },
     "output_type": "display_data"
    }
   ],
   "source": [
    "x = np.arange(data.min(), data.max(), 0.01)\n",
    "\n",
    "plt.figure(figsize=(10,6))\n",
    "plt.hist(data, bins=15, density=True, color='black',alpha=0.5)\n",
    "plt.plot(x, gaussian_f(180, 2000, x), label='mu=180, var=2000')\n",
    "plt.plot(x, gaussian_f(400, 6000, x), label='mu=400, var=2000')\n",
    "plt.plot(x, gaussian_f(700, 2000, x), label='mu=700, var=2000')\n",
    "plt.plot(x, gaussian_f(700, 3000, x), label='mu=700, var=3000')\n",
    "plt.xlim([data.min(), data.max()])\n",
    "plt.xlabel('height')\n",
    "plt.legend()\n",
    "plt.show()"
   ]
  },
  {
   "cell_type": "markdown",
   "id": "61a93814",
   "metadata": {},
   "source": [
    "Let's make a grid search on the mean and variance parameters to find the best couple"
   ]
  },
  {
   "cell_type": "code",
   "execution_count": 41,
   "id": "b639ad41",
   "metadata": {},
   "outputs": [],
   "source": [
    "# Calculation of likelihood function\n",
    "mus = np.arange(data.min(), data.max(), data.max()//100)\n",
    "var_s = np.arange(np.var(data)/2, np.var(data)*2, np.var(data)//100)"
   ]
  },
  {
   "cell_type": "code",
   "execution_count": 42,
   "id": "c1efadd2",
   "metadata": {},
   "outputs": [],
   "source": [
    "params = np.zeros((len(mus), len(var_s)))\n",
    "for i,m in enumerate(mus):\n",
    "    for j,v in enumerate(var_s):\n",
    "        p = 1\n",
    "        for x in data:\n",
    "            p *= gaussian(m, v, x)\n",
    "        params[i,j] = p"
   ]
  },
  {
   "cell_type": "code",
   "execution_count": 43,
   "id": "c4e980f5",
   "metadata": {},
   "outputs": [
    {
     "data": {
      "image/png": "[encoded data removed]",
      "text/plain": [
       "<Figure size 1080x720 with 1 Axes>"
      ]
     },
     "metadata": {
      "needs_background": "light"
     },
     "output_type": "display_data"
    }
   ],
   "source": [
    "# plot likelihood\n",
    "\n",
    "X,Y = np.meshgrid(var_s, mus)\n",
    "\n",
    "fig = plt.figure(figsize=(15,10))\n",
    "ax = fig.add_subplot(111, projection='3d')\n",
    "ax.plot_surface(Y, X, params, cmap='summer')\n",
    "ax.view_init(azim=45, elev=45)\n",
    "ax.set_xlabel(r'$\\mu$', fontsize=16)\n",
    "ax.set_ylabel(r'$\\sigma^2$', fontsize=16)\n",
    "ax.set_zlabel(r'$L(\\theta|D)$', fontsize=16)\n",
    "plt.show()"
   ]
  },
  {
   "cell_type": "markdown",
   "id": "a6d0afe1",
   "metadata": {},
   "source": [
    "The best parameters can be found using argmax, but currently it will be always the mean and variance values."
   ]
  },
  {
   "cell_type": "code",
   "execution_count": 44,
   "id": "cf53de2b",
   "metadata": {},
   "outputs": [
    {
     "data": {
      "text/plain": [
       "(79819.66272189349, 580)"
      ]
     },
     "execution_count": 44,
     "metadata": {},
     "output_type": "execute_result"
    }
   ],
   "source": [
    "X[np.unravel_index(params.argmax(), params.shape)], Y[np.unravel_index(params.argmax(), params.shape)]"
   ]
  },
  {
   "cell_type": "code",
   "execution_count": null,
   "id": "a4a32937",
   "metadata": {},
   "outputs": [],
   "source": []
  }
 ],
 "metadata": {
  "kernelspec": {
   "display_name": "Python 3 (ipykernel)",
   "language": "python",
   "name": "python3"
  },
  "language_info": {
   "codemirror_mode": {
    "name": "ipython",
    "version": 3
   },
   "file_extension": ".py",
   "mimetype": "text/x-python",
   "name": "python",
   "nbconvert_exporter": "python",
   "pygments_lexer": "ipython3",
   "version": "3.7.3"
  },
  "toc": {
   "base_numbering": 1,
   "nav_menu": {},
   "number_sections": true,
   "sideBar": true,
   "skip_h1_title": false,
   "title_cell": "Table of Contents",
   "title_sidebar": "Contents",
   "toc_cell": false,
   "toc_position": {},
   "toc_section_display": true,
   "toc_window_display": false
  }
 },
 "nbformat": 4,
 "nbformat_minor": 5
}
